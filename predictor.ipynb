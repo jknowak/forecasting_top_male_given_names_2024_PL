{
 "cells": [
  {
   "cell_type": "code",
   "execution_count": 119,
   "metadata": {},
   "outputs": [],
   "source": [
    "import pandas as pd\n",
    "from prophet import Prophet\n",
    "import numpy as np\n",
    "import matplotlib.pyplot as plt"
   ]
  },
  {
   "cell_type": "code",
   "execution_count": 120,
   "metadata": {},
   "outputs": [],
   "source": [
    "def wmape(y_true, y_pred):\n",
    "    return np.abs(y_true - y_pred).sum() / np.abs(y_true).sum()"
   ]
  },
  {
   "cell_type": "code",
   "execution_count": 132,
   "metadata": {},
   "outputs": [
    {
     "name": "stderr",
     "output_type": "stream",
     "text": [
      "C:\\Users\\MSI\\AppData\\Local\\Temp\\ipykernel_21892\\2670712180.py:3: SettingWithCopyWarning: \n",
      "A value is trying to be set on a copy of a slice from a DataFrame.\n",
      "Try using .loc[row_indexer,col_indexer] = value instead\n",
      "\n",
      "See the caveats in the documentation: https://pandas.pydata.org/pandas-docs/stable/user_guide/indexing.html#returning-a-view-versus-a-copy\n",
      "  df[\"Płeć\"] = \"MĘŻCZYZNA\"\n"
     ]
    }
   ],
   "source": [
    "df_a = pd.read_csv(\"names_2000_2019.csv\")\n",
    "df = df_a[df_a[\"Płeć\"]==\"M\"]\n",
    "df[\"Płeć\"] = \"MĘŻCZYZNA\"\n",
    "df = df.rename(columns={\"Imię\":\"IMIĘ_PIERWSZE\", \"Płeć\":\"PŁEĆ\", \"Liczba\":\"LICZBA_WYSTĄPIEŃ\"})\n"
   ]
  },
  {
   "cell_type": "code",
   "execution_count": 133,
   "metadata": {},
   "outputs": [
    {
     "name": "stdout",
     "output_type": "stream",
     "text": [
      "    IMIĘ_PIERWSZE       PŁEĆ  LICZBA_WYSTĄPIEŃ   Rok\n",
      "0          ANTONI  MĘŻCZYZNA              8368  2020\n",
      "1             JAN  MĘŻCZYZNA              7658  2020\n",
      "2      ALEKSANDER  MĘŻCZYZNA              7165  2020\n",
      "3           JAKUB  MĘŻCZYZNA              7162  2020\n",
      "4      FRANCISZEK  MĘŻCZYZNA              7124  2020\n",
      "..            ...        ...               ...   ...\n",
      "794          EZRA  MĘŻCZYZNA                 2  2020\n",
      "795     MINH QUAN  MĘŻCZYZNA                 2  2020\n",
      "796        MARTÍN  MĘŻCZYZNA                 2  2020\n",
      "797       EDUARDO  MĘŻCZYZNA                 2  2020\n",
      "798         NAMIR  MĘŻCZYZNA                 2  2020\n",
      "\n",
      "[799 rows x 4 columns]\n",
      "    IMIĘ_PIERWSZE       PŁEĆ  LICZBA_WYSTĄPIEŃ   Rok\n",
      "0          ANTONI  MĘŻCZYZNA              7821  2021\n",
      "1             JAN  MĘŻCZYZNA              6975  2021\n",
      "2      ALEKSANDER  MĘŻCZYZNA              6919  2021\n",
      "3      FRANCISZEK  MĘŻCZYZNA              6629  2021\n",
      "4           JAKUB  MĘŻCZYZNA              6427  2021\n",
      "..            ...        ...               ...   ...\n",
      "855        LENARD  MĘŻCZYZNA                 2  2021\n",
      "856         USMAN  MĘŻCZYZNA                 2  2021\n",
      "857         ELIAN  MĘŻCZYZNA                 2  2021\n",
      "858         AMMAR  MĘŻCZYZNA                 2  2021\n",
      "859      ANATOLIJ  MĘŻCZYZNA                 2  2021\n",
      "\n",
      "[860 rows x 4 columns]\n",
      "     IMIĘ_PIERWSZE       PŁEĆ  LICZBA_WYSTĄPIEŃ   Rok\n",
      "0           ANTONI  MĘŻCZYZNA              6670  2022\n",
      "1              JAN  MĘŻCZYZNA              6341  2022\n",
      "2       ALEKSANDER  MĘŻCZYZNA              6201  2022\n",
      "3          NIKODEM  MĘŻCZYZNA              6155  2022\n",
      "4       FRANCISZEK  MĘŻCZYZNA              5696  2022\n",
      "...            ...        ...               ...   ...\n",
      "1028     MARCELINO  MĘŻCZYZNA                 2  2022\n",
      "1029       GEORGII  MĘŻCZYZNA                 2  2022\n",
      "1030         SINAN  MĘŻCZYZNA                 2  2022\n",
      "1031      THÉODORE  MĘŻCZYZNA                 2  2022\n",
      "1032     TUAN KIET  MĘŻCZYZNA                 2  2022\n",
      "\n",
      "[1033 rows x 4 columns]\n",
      "    IMIĘ_PIERWSZE       PŁEĆ  LICZBA_WYSTĄPIEŃ   Rok\n",
      "0         NIKODEM  MĘŻCZYZNA              6532  2023\n",
      "1          ANTONI  MĘŻCZYZNA              5663  2023\n",
      "2             JAN  MĘŻCZYZNA              5638  2023\n",
      "3      ALEKSANDER  MĘŻCZYZNA              5625  2023\n",
      "4      FRANCISZEK  MĘŻCZYZNA              4965  2023\n",
      "..            ...        ...               ...   ...\n",
      "979        ELISEI  MĘŻCZYZNA                 2  2023\n",
      "980           JON  MĘŻCZYZNA                 2  2023\n",
      "981        FLAVIO  MĘŻCZYZNA                 2  2023\n",
      "982         DEYAN  MĘŻCZYZNA                 2  2023\n",
      "983       SZARBEL  MĘŻCZYZNA                 2  2023\n",
      "\n",
      "[984 rows x 4 columns]\n"
     ]
    },
    {
     "data": {
      "text/html": [
       "<div>\n",
       "<style scoped>\n",
       "    .dataframe tbody tr th:only-of-type {\n",
       "        vertical-align: middle;\n",
       "    }\n",
       "\n",
       "    .dataframe tbody tr th {\n",
       "        vertical-align: top;\n",
       "    }\n",
       "\n",
       "    .dataframe thead th {\n",
       "        text-align: right;\n",
       "    }\n",
       "</style>\n",
       "<table border=\"1\" class=\"dataframe\">\n",
       "  <thead>\n",
       "    <tr style=\"text-align: right;\">\n",
       "      <th></th>\n",
       "      <th>Rok</th>\n",
       "      <th>IMIĘ_PIERWSZE</th>\n",
       "      <th>LICZBA_WYSTĄPIEŃ</th>\n",
       "      <th>PŁEĆ</th>\n",
       "    </tr>\n",
       "  </thead>\n",
       "  <tbody>\n",
       "    <tr>\n",
       "      <th>0</th>\n",
       "      <td>2000</td>\n",
       "      <td>JAKUB</td>\n",
       "      <td>14497</td>\n",
       "      <td>MĘŻCZYZNA</td>\n",
       "    </tr>\n",
       "    <tr>\n",
       "      <th>1</th>\n",
       "      <td>2000</td>\n",
       "      <td>MATEUSZ</td>\n",
       "      <td>11454</td>\n",
       "      <td>MĘŻCZYZNA</td>\n",
       "    </tr>\n",
       "    <tr>\n",
       "      <th>2</th>\n",
       "      <td>2000</td>\n",
       "      <td>KACPER</td>\n",
       "      <td>8898</td>\n",
       "      <td>MĘŻCZYZNA</td>\n",
       "    </tr>\n",
       "    <tr>\n",
       "      <th>3</th>\n",
       "      <td>2000</td>\n",
       "      <td>MICHAŁ</td>\n",
       "      <td>8498</td>\n",
       "      <td>MĘŻCZYZNA</td>\n",
       "    </tr>\n",
       "    <tr>\n",
       "      <th>4</th>\n",
       "      <td>2000</td>\n",
       "      <td>PATRYK</td>\n",
       "      <td>7743</td>\n",
       "      <td>MĘŻCZYZNA</td>\n",
       "    </tr>\n",
       "    <tr>\n",
       "      <th>...</th>\n",
       "      <td>...</td>\n",
       "      <td>...</td>\n",
       "      <td>...</td>\n",
       "      <td>...</td>\n",
       "    </tr>\n",
       "    <tr>\n",
       "      <th>15780</th>\n",
       "      <td>2023</td>\n",
       "      <td>ELISEI</td>\n",
       "      <td>2</td>\n",
       "      <td>MĘŻCZYZNA</td>\n",
       "    </tr>\n",
       "    <tr>\n",
       "      <th>15781</th>\n",
       "      <td>2023</td>\n",
       "      <td>JON</td>\n",
       "      <td>2</td>\n",
       "      <td>MĘŻCZYZNA</td>\n",
       "    </tr>\n",
       "    <tr>\n",
       "      <th>15782</th>\n",
       "      <td>2023</td>\n",
       "      <td>FLAVIO</td>\n",
       "      <td>2</td>\n",
       "      <td>MĘŻCZYZNA</td>\n",
       "    </tr>\n",
       "    <tr>\n",
       "      <th>15783</th>\n",
       "      <td>2023</td>\n",
       "      <td>DEYAN</td>\n",
       "      <td>2</td>\n",
       "      <td>MĘŻCZYZNA</td>\n",
       "    </tr>\n",
       "    <tr>\n",
       "      <th>15784</th>\n",
       "      <td>2023</td>\n",
       "      <td>SZARBEL</td>\n",
       "      <td>2</td>\n",
       "      <td>MĘŻCZYZNA</td>\n",
       "    </tr>\n",
       "  </tbody>\n",
       "</table>\n",
       "<p>15785 rows × 4 columns</p>\n",
       "</div>"
      ],
      "text/plain": [
       "        Rok IMIĘ_PIERWSZE  LICZBA_WYSTĄPIEŃ       PŁEĆ\n",
       "0      2000         JAKUB             14497  MĘŻCZYZNA\n",
       "1      2000       MATEUSZ             11454  MĘŻCZYZNA\n",
       "2      2000        KACPER              8898  MĘŻCZYZNA\n",
       "3      2000        MICHAŁ              8498  MĘŻCZYZNA\n",
       "4      2000        PATRYK              7743  MĘŻCZYZNA\n",
       "...     ...           ...               ...        ...\n",
       "15780  2023        ELISEI                 2  MĘŻCZYZNA\n",
       "15781  2023           JON                 2  MĘŻCZYZNA\n",
       "15782  2023        FLAVIO                 2  MĘŻCZYZNA\n",
       "15783  2023         DEYAN                 2  MĘŻCZYZNA\n",
       "15784  2023       SZARBEL                 2  MĘŻCZYZNA\n",
       "\n",
       "[15785 rows x 4 columns]"
      ]
     },
     "execution_count": 133,
     "metadata": {},
     "output_type": "execute_result"
    }
   ],
   "source": [
    "for i in range(2020,2024):\n",
    "    df_temp = pd.read_csv(f\"male_names_{i}.csv\")\n",
    "    df_temp[\"Rok\"] = i\n",
    "    print(df_temp)\n",
    "    df = pd.concat([df,df_temp], ignore_index=True)\n",
    "\n",
    "df\n"
   ]
  },
  {
   "cell_type": "code",
   "execution_count": 134,
   "metadata": {},
   "outputs": [],
   "source": [
    "yearly_counts = df.groupby(by=\"Rok\").agg({\"LICZBA_WYSTĄPIEŃ\":\"sum\"})\n",
    "yearly_counts = yearly_counts.rename(columns={\"LICZBA_WYSTĄPIEŃ\":\"LW_ROCZNA\"})"
   ]
  },
  {
   "cell_type": "code",
   "execution_count": 135,
   "metadata": {},
   "outputs": [
    {
     "data": {
      "text/html": [
       "<div>\n",
       "<style scoped>\n",
       "    .dataframe tbody tr th:only-of-type {\n",
       "        vertical-align: middle;\n",
       "    }\n",
       "\n",
       "    .dataframe tbody tr th {\n",
       "        vertical-align: top;\n",
       "    }\n",
       "\n",
       "    .dataframe thead th {\n",
       "        text-align: right;\n",
       "    }\n",
       "</style>\n",
       "<table border=\"1\" class=\"dataframe\">\n",
       "  <thead>\n",
       "    <tr style=\"text-align: right;\">\n",
       "      <th></th>\n",
       "      <th>Rok</th>\n",
       "      <th>IMIĘ_PIERWSZE</th>\n",
       "      <th>LICZBA_WYSTĄPIEŃ</th>\n",
       "      <th>PŁEĆ</th>\n",
       "      <th>LW_ROCZNA</th>\n",
       "    </tr>\n",
       "  </thead>\n",
       "  <tbody>\n",
       "    <tr>\n",
       "      <th>0</th>\n",
       "      <td>2000</td>\n",
       "      <td>JAKUB</td>\n",
       "      <td>14497</td>\n",
       "      <td>MĘŻCZYZNA</td>\n",
       "      <td>197263</td>\n",
       "    </tr>\n",
       "    <tr>\n",
       "      <th>1</th>\n",
       "      <td>2000</td>\n",
       "      <td>MATEUSZ</td>\n",
       "      <td>11454</td>\n",
       "      <td>MĘŻCZYZNA</td>\n",
       "      <td>197263</td>\n",
       "    </tr>\n",
       "    <tr>\n",
       "      <th>2</th>\n",
       "      <td>2000</td>\n",
       "      <td>KACPER</td>\n",
       "      <td>8898</td>\n",
       "      <td>MĘŻCZYZNA</td>\n",
       "      <td>197263</td>\n",
       "    </tr>\n",
       "    <tr>\n",
       "      <th>3</th>\n",
       "      <td>2000</td>\n",
       "      <td>MICHAŁ</td>\n",
       "      <td>8498</td>\n",
       "      <td>MĘŻCZYZNA</td>\n",
       "      <td>197263</td>\n",
       "    </tr>\n",
       "    <tr>\n",
       "      <th>4</th>\n",
       "      <td>2000</td>\n",
       "      <td>PATRYK</td>\n",
       "      <td>7743</td>\n",
       "      <td>MĘŻCZYZNA</td>\n",
       "      <td>197263</td>\n",
       "    </tr>\n",
       "    <tr>\n",
       "      <th>...</th>\n",
       "      <td>...</td>\n",
       "      <td>...</td>\n",
       "      <td>...</td>\n",
       "      <td>...</td>\n",
       "      <td>...</td>\n",
       "    </tr>\n",
       "    <tr>\n",
       "      <th>15780</th>\n",
       "      <td>2023</td>\n",
       "      <td>ELISEI</td>\n",
       "      <td>2</td>\n",
       "      <td>MĘŻCZYZNA</td>\n",
       "      <td>145349</td>\n",
       "    </tr>\n",
       "    <tr>\n",
       "      <th>15781</th>\n",
       "      <td>2023</td>\n",
       "      <td>JON</td>\n",
       "      <td>2</td>\n",
       "      <td>MĘŻCZYZNA</td>\n",
       "      <td>145349</td>\n",
       "    </tr>\n",
       "    <tr>\n",
       "      <th>15782</th>\n",
       "      <td>2023</td>\n",
       "      <td>FLAVIO</td>\n",
       "      <td>2</td>\n",
       "      <td>MĘŻCZYZNA</td>\n",
       "      <td>145349</td>\n",
       "    </tr>\n",
       "    <tr>\n",
       "      <th>15783</th>\n",
       "      <td>2023</td>\n",
       "      <td>DEYAN</td>\n",
       "      <td>2</td>\n",
       "      <td>MĘŻCZYZNA</td>\n",
       "      <td>145349</td>\n",
       "    </tr>\n",
       "    <tr>\n",
       "      <th>15784</th>\n",
       "      <td>2023</td>\n",
       "      <td>SZARBEL</td>\n",
       "      <td>2</td>\n",
       "      <td>MĘŻCZYZNA</td>\n",
       "      <td>145349</td>\n",
       "    </tr>\n",
       "  </tbody>\n",
       "</table>\n",
       "<p>15785 rows × 5 columns</p>\n",
       "</div>"
      ],
      "text/plain": [
       "        Rok IMIĘ_PIERWSZE  LICZBA_WYSTĄPIEŃ       PŁEĆ  LW_ROCZNA\n",
       "0      2000         JAKUB             14497  MĘŻCZYZNA     197263\n",
       "1      2000       MATEUSZ             11454  MĘŻCZYZNA     197263\n",
       "2      2000        KACPER              8898  MĘŻCZYZNA     197263\n",
       "3      2000        MICHAŁ              8498  MĘŻCZYZNA     197263\n",
       "4      2000        PATRYK              7743  MĘŻCZYZNA     197263\n",
       "...     ...           ...               ...        ...        ...\n",
       "15780  2023        ELISEI                 2  MĘŻCZYZNA     145349\n",
       "15781  2023           JON                 2  MĘŻCZYZNA     145349\n",
       "15782  2023        FLAVIO                 2  MĘŻCZYZNA     145349\n",
       "15783  2023         DEYAN                 2  MĘŻCZYZNA     145349\n",
       "15784  2023       SZARBEL                 2  MĘŻCZYZNA     145349\n",
       "\n",
       "[15785 rows x 5 columns]"
      ]
     },
     "execution_count": 135,
     "metadata": {},
     "output_type": "execute_result"
    }
   ],
   "source": [
    "df = pd.merge(df,yearly_counts, on=\"Rok\")\n",
    "df"
   ]
  },
  {
   "cell_type": "code",
   "execution_count": 136,
   "metadata": {},
   "outputs": [],
   "source": [
    "df[\"PROCENT_WYSTĄPIEŃ\"] = df.LICZBA_WYSTĄPIEŃ/df.LW_ROCZNA*100\n",
    "df.Rok = pd.to_datetime(df['Rok'].astype(str) + '-12-31')\n",
    "df = df.rename(columns={\"Rok\":\"ds\",\"PROCENT_WYSTĄPIEŃ\":\"y\"})"
   ]
  },
  {
   "cell_type": "code",
   "execution_count": 137,
   "metadata": {},
   "outputs": [],
   "source": [
    "top_names = df[df.y > 0.1].IMIĘ_PIERWSZE.unique()\n",
    "df = df[df.IMIĘ_PIERWSZE.isin(top_names)]\n"
   ]
  },
  {
   "cell_type": "code",
   "execution_count": 154,
   "metadata": {},
   "outputs": [],
   "source": [
    "train = df.loc[df.ds <= \"2021-12-31\"]\n",
    "valid = df.loc[df.ds > \"2021-12-31\"]"
   ]
  },
  {
   "cell_type": "code",
   "execution_count": 155,
   "metadata": {},
   "outputs": [
    {
     "name": "stderr",
     "output_type": "stream",
     "text": [
      "22:38:55 - cmdstanpy - INFO - Chain [1] start processing\n"
     ]
    },
    {
     "name": "stdout",
     "output_type": "stream",
     "text": [
      "name:  JAKUB\n"
     ]
    },
    {
     "name": "stderr",
     "output_type": "stream",
     "text": [
      "22:38:55 - cmdstanpy - INFO - Chain [1] done processing\n",
      "22:38:55 - cmdstanpy - INFO - Chain [1] start processing\n",
      "22:38:55 - cmdstanpy - INFO - Chain [1] done processing\n"
     ]
    },
    {
     "name": "stdout",
     "output_type": "stream",
     "text": [
      "name:  MATEUSZ\n"
     ]
    },
    {
     "name": "stderr",
     "output_type": "stream",
     "text": [
      "22:38:55 - cmdstanpy - INFO - Chain [1] start processing\n",
      "22:38:55 - cmdstanpy - INFO - Chain [1] done processing\n"
     ]
    },
    {
     "name": "stdout",
     "output_type": "stream",
     "text": [
      "name:  KACPER\n"
     ]
    },
    {
     "name": "stderr",
     "output_type": "stream",
     "text": [
      "22:38:55 - cmdstanpy - INFO - Chain [1] start processing\n"
     ]
    },
    {
     "name": "stdout",
     "output_type": "stream",
     "text": [
      "name:  MICHAŁ\n"
     ]
    },
    {
     "name": "stderr",
     "output_type": "stream",
     "text": [
      "22:38:55 - cmdstanpy - INFO - Chain [1] done processing\n",
      "22:38:56 - cmdstanpy - INFO - Chain [1] start processing\n"
     ]
    },
    {
     "name": "stdout",
     "output_type": "stream",
     "text": [
      "name:  PATRYK\n"
     ]
    },
    {
     "name": "stderr",
     "output_type": "stream",
     "text": [
      "22:38:56 - cmdstanpy - INFO - Chain [1] done processing\n",
      "22:38:56 - cmdstanpy - INFO - Chain [1] start processing\n",
      "22:38:56 - cmdstanpy - INFO - Chain [1] done processing\n"
     ]
    },
    {
     "name": "stdout",
     "output_type": "stream",
     "text": [
      "name:  DAWID\n"
     ]
    },
    {
     "name": "stderr",
     "output_type": "stream",
     "text": [
      "22:38:56 - cmdstanpy - INFO - Chain [1] start processing\n"
     ]
    },
    {
     "name": "stdout",
     "output_type": "stream",
     "text": [
      "name:  KAMIL\n"
     ]
    },
    {
     "name": "stderr",
     "output_type": "stream",
     "text": [
      "22:38:56 - cmdstanpy - INFO - Chain [1] done processing\n",
      "22:38:56 - cmdstanpy - INFO - Chain [1] start processing\n"
     ]
    },
    {
     "name": "stdout",
     "output_type": "stream",
     "text": [
      "name:  PIOTR\n"
     ]
    },
    {
     "name": "stderr",
     "output_type": "stream",
     "text": [
      "22:38:57 - cmdstanpy - INFO - Chain [1] done processing\n",
      "22:38:57 - cmdstanpy - INFO - Chain [1] start processing\n"
     ]
    },
    {
     "name": "stdout",
     "output_type": "stream",
     "text": [
      "name:  SZYMON\n"
     ]
    },
    {
     "name": "stderr",
     "output_type": "stream",
     "text": [
      "22:38:57 - cmdstanpy - INFO - Chain [1] done processing\n",
      "22:38:57 - cmdstanpy - INFO - Chain [1] start processing\n"
     ]
    },
    {
     "name": "stdout",
     "output_type": "stream",
     "text": [
      "name:  PAWEŁ\n"
     ]
    },
    {
     "name": "stderr",
     "output_type": "stream",
     "text": [
      "22:38:57 - cmdstanpy - INFO - Chain [1] done processing\n",
      "22:38:57 - cmdstanpy - INFO - Chain [1] start processing\n",
      "22:38:57 - cmdstanpy - INFO - Chain [1] done processing\n"
     ]
    },
    {
     "name": "stdout",
     "output_type": "stream",
     "text": [
      "name:  MACIEJ\n",
      "name:  BARTOSZ\n"
     ]
    },
    {
     "name": "stderr",
     "output_type": "stream",
     "text": [
      "22:38:57 - cmdstanpy - INFO - Chain [1] start processing\n",
      "22:38:57 - cmdstanpy - INFO - Chain [1] done processing\n",
      "22:38:58 - cmdstanpy - INFO - Chain [1] start processing\n"
     ]
    },
    {
     "name": "stdout",
     "output_type": "stream",
     "text": [
      "name:  DAMIAN\n"
     ]
    },
    {
     "name": "stderr",
     "output_type": "stream",
     "text": [
      "22:38:58 - cmdstanpy - INFO - Chain [1] done processing\n",
      "22:38:58 - cmdstanpy - INFO - Chain [1] start processing\n"
     ]
    },
    {
     "name": "stdout",
     "output_type": "stream",
     "text": [
      "name:  DOMINIK\n"
     ]
    },
    {
     "name": "stderr",
     "output_type": "stream",
     "text": [
      "22:38:58 - cmdstanpy - INFO - Chain [1] done processing\n",
      "22:38:58 - cmdstanpy - INFO - Chain [1] start processing\n"
     ]
    },
    {
     "name": "stdout",
     "output_type": "stream",
     "text": [
      "name:  ADRIAN\n"
     ]
    },
    {
     "name": "stderr",
     "output_type": "stream",
     "text": [
      "22:38:58 - cmdstanpy - INFO - Chain [1] done processing\n",
      "22:38:58 - cmdstanpy - INFO - Chain [1] start processing\n"
     ]
    },
    {
     "name": "stdout",
     "output_type": "stream",
     "text": [
      "name:  MARCIN\n"
     ]
    },
    {
     "name": "stderr",
     "output_type": "stream",
     "text": [
      "22:38:59 - cmdstanpy - INFO - Chain [1] done processing\n",
      "22:38:59 - cmdstanpy - INFO - Chain [1] start processing\n"
     ]
    },
    {
     "name": "stdout",
     "output_type": "stream",
     "text": [
      "name:  ŁUKASZ\n"
     ]
    },
    {
     "name": "stderr",
     "output_type": "stream",
     "text": [
      "22:38:59 - cmdstanpy - INFO - Chain [1] done processing\n",
      "22:38:59 - cmdstanpy - INFO - Chain [1] start processing\n",
      "22:38:59 - cmdstanpy - INFO - Chain [1] done processing\n"
     ]
    },
    {
     "name": "stdout",
     "output_type": "stream",
     "text": [
      "name:  KRZYSZTOF\n",
      "name:  DANIEL\n"
     ]
    },
    {
     "name": "stderr",
     "output_type": "stream",
     "text": [
      "22:38:59 - cmdstanpy - INFO - Chain [1] start processing\n",
      "22:38:59 - cmdstanpy - INFO - Chain [1] done processing\n",
      "22:38:59 - cmdstanpy - INFO - Chain [1] start processing\n",
      "22:38:59 - cmdstanpy - INFO - Chain [1] done processing\n"
     ]
    },
    {
     "name": "stdout",
     "output_type": "stream",
     "text": [
      "name:  SEBASTIAN\n"
     ]
    },
    {
     "name": "stderr",
     "output_type": "stream",
     "text": [
      "22:39:00 - cmdstanpy - INFO - Chain [1] start processing\n"
     ]
    },
    {
     "name": "stdout",
     "output_type": "stream",
     "text": [
      "name:  TOMASZ\n"
     ]
    },
    {
     "name": "stderr",
     "output_type": "stream",
     "text": [
      "22:39:00 - cmdstanpy - INFO - Chain [1] done processing\n",
      "22:39:00 - cmdstanpy - INFO - Chain [1] start processing\n"
     ]
    },
    {
     "name": "stdout",
     "output_type": "stream",
     "text": [
      "name:  FILIP\n"
     ]
    },
    {
     "name": "stderr",
     "output_type": "stream",
     "text": [
      "22:39:00 - cmdstanpy - INFO - Chain [1] done processing\n",
      "22:39:00 - cmdstanpy - INFO - Chain [1] start processing\n"
     ]
    },
    {
     "name": "stdout",
     "output_type": "stream",
     "text": [
      "name:  ADAM\n"
     ]
    },
    {
     "name": "stderr",
     "output_type": "stream",
     "text": [
      "22:39:00 - cmdstanpy - INFO - Chain [1] done processing\n",
      "22:39:00 - cmdstanpy - INFO - Chain [1] start processing\n"
     ]
    },
    {
     "name": "stdout",
     "output_type": "stream",
     "text": [
      "name:  BARTŁOMIEJ\n"
     ]
    },
    {
     "name": "stderr",
     "output_type": "stream",
     "text": [
      "22:39:00 - cmdstanpy - INFO - Chain [1] done processing\n",
      "22:39:01 - cmdstanpy - INFO - Chain [1] start processing\n",
      "22:39:01 - cmdstanpy - INFO - Chain [1] done processing\n"
     ]
    },
    {
     "name": "stdout",
     "output_type": "stream",
     "text": [
      "name:  KAROL\n"
     ]
    },
    {
     "name": "stderr",
     "output_type": "stream",
     "text": [
      "22:39:01 - cmdstanpy - INFO - Chain [1] start processing\n"
     ]
    },
    {
     "name": "stdout",
     "output_type": "stream",
     "text": [
      "name:  MIKOŁAJ\n"
     ]
    },
    {
     "name": "stderr",
     "output_type": "stream",
     "text": [
      "22:39:01 - cmdstanpy - INFO - Chain [1] done processing\n",
      "22:39:01 - cmdstanpy - INFO - Chain [1] start processing\n"
     ]
    },
    {
     "name": "stdout",
     "output_type": "stream",
     "text": [
      "name:  KRYSTIAN\n"
     ]
    },
    {
     "name": "stderr",
     "output_type": "stream",
     "text": [
      "22:39:01 - cmdstanpy - INFO - Chain [1] done processing\n",
      "22:39:01 - cmdstanpy - INFO - Chain [1] start processing\n",
      "22:39:01 - cmdstanpy - INFO - Chain [1] done processing\n"
     ]
    },
    {
     "name": "stdout",
     "output_type": "stream",
     "text": [
      "name:  HUBERT\n"
     ]
    },
    {
     "name": "stderr",
     "output_type": "stream",
     "text": [
      "22:39:02 - cmdstanpy - INFO - Chain [1] start processing\n"
     ]
    },
    {
     "name": "stdout",
     "output_type": "stream",
     "text": [
      "name:  KONRAD\n"
     ]
    },
    {
     "name": "stderr",
     "output_type": "stream",
     "text": [
      "22:39:02 - cmdstanpy - INFO - Chain [1] done processing\n",
      "22:39:02 - cmdstanpy - INFO - Chain [1] start processing\n"
     ]
    },
    {
     "name": "stdout",
     "output_type": "stream",
     "text": [
      "name:  WOJCIECH\n"
     ]
    },
    {
     "name": "stderr",
     "output_type": "stream",
     "text": [
      "22:39:02 - cmdstanpy - INFO - Chain [1] done processing\n",
      "22:39:02 - cmdstanpy - INFO - Chain [1] start processing\n"
     ]
    },
    {
     "name": "stdout",
     "output_type": "stream",
     "text": [
      "name:  RAFAŁ\n"
     ]
    },
    {
     "name": "stderr",
     "output_type": "stream",
     "text": [
      "22:39:02 - cmdstanpy - INFO - Chain [1] done processing\n",
      "22:39:02 - cmdstanpy - INFO - Chain [1] start processing\n",
      "22:39:03 - cmdstanpy - INFO - Chain [1] done processing\n"
     ]
    },
    {
     "name": "stdout",
     "output_type": "stream",
     "text": [
      "name:  JAN\n"
     ]
    },
    {
     "name": "stderr",
     "output_type": "stream",
     "text": [
      "22:39:03 - cmdstanpy - INFO - Chain [1] start processing\n"
     ]
    },
    {
     "name": "stdout",
     "output_type": "stream",
     "text": [
      "name:  PRZEMYSŁAW\n"
     ]
    },
    {
     "name": "stderr",
     "output_type": "stream",
     "text": [
      "22:39:03 - cmdstanpy - INFO - Chain [1] done processing\n",
      "22:39:03 - cmdstanpy - INFO - Chain [1] start processing\n"
     ]
    },
    {
     "name": "stdout",
     "output_type": "stream",
     "text": [
      "name:  OSKAR\n"
     ]
    },
    {
     "name": "stderr",
     "output_type": "stream",
     "text": [
      "22:39:03 - cmdstanpy - INFO - Chain [1] done processing\n",
      "22:39:03 - cmdstanpy - INFO - Chain [1] start processing\n"
     ]
    },
    {
     "name": "stdout",
     "output_type": "stream",
     "text": [
      "name:  GRZEGORZ\n"
     ]
    },
    {
     "name": "stderr",
     "output_type": "stream",
     "text": [
      "22:39:03 - cmdstanpy - INFO - Chain [1] done processing\n",
      "22:39:03 - cmdstanpy - INFO - Chain [1] start processing\n"
     ]
    },
    {
     "name": "stdout",
     "output_type": "stream",
     "text": [
      "name:  WIKTOR\n"
     ]
    },
    {
     "name": "stderr",
     "output_type": "stream",
     "text": [
      "22:39:04 - cmdstanpy - INFO - Chain [1] done processing\n",
      "22:39:04 - cmdstanpy - INFO - Chain [1] start processing\n"
     ]
    },
    {
     "name": "stdout",
     "output_type": "stream",
     "text": [
      "name:  ARKADIUSZ\n"
     ]
    },
    {
     "name": "stderr",
     "output_type": "stream",
     "text": [
      "22:39:04 - cmdstanpy - INFO - Chain [1] done processing\n",
      "22:39:04 - cmdstanpy - INFO - Chain [1] start processing\n"
     ]
    },
    {
     "name": "stdout",
     "output_type": "stream",
     "text": [
      "name:  ALEKSANDER\n"
     ]
    },
    {
     "name": "stderr",
     "output_type": "stream",
     "text": [
      "22:39:04 - cmdstanpy - INFO - Chain [1] done processing\n",
      "22:39:04 - cmdstanpy - INFO - Chain [1] start processing\n"
     ]
    },
    {
     "name": "stdout",
     "output_type": "stream",
     "text": [
      "name:  ARTUR\n"
     ]
    },
    {
     "name": "stderr",
     "output_type": "stream",
     "text": [
      "22:39:04 - cmdstanpy - INFO - Chain [1] done processing\n",
      "22:39:04 - cmdstanpy - INFO - Chain [1] start processing\n"
     ]
    },
    {
     "name": "stdout",
     "output_type": "stream",
     "text": [
      "name:  RADOSŁAW\n"
     ]
    },
    {
     "name": "stderr",
     "output_type": "stream",
     "text": [
      "22:39:05 - cmdstanpy - INFO - Chain [1] done processing\n",
      "22:39:05 - cmdstanpy - INFO - Chain [1] start processing\n",
      "22:39:05 - cmdstanpy - INFO - Chain [1] done processing\n"
     ]
    },
    {
     "name": "stdout",
     "output_type": "stream",
     "text": [
      "name:  ROBERT\n"
     ]
    },
    {
     "name": "stderr",
     "output_type": "stream",
     "text": [
      "22:39:05 - cmdstanpy - INFO - Chain [1] start processing\n"
     ]
    },
    {
     "name": "stdout",
     "output_type": "stream",
     "text": [
      "name:  MAREK\n"
     ]
    },
    {
     "name": "stderr",
     "output_type": "stream",
     "text": [
      "22:39:05 - cmdstanpy - INFO - Chain [1] done processing\n",
      "22:39:05 - cmdstanpy - INFO - Chain [1] start processing\n",
      "22:39:05 - cmdstanpy - INFO - Chain [1] done processing\n"
     ]
    },
    {
     "name": "stdout",
     "output_type": "stream",
     "text": [
      "name:  ERYK\n"
     ]
    },
    {
     "name": "stderr",
     "output_type": "stream",
     "text": [
      "22:39:05 - cmdstanpy - INFO - Chain [1] start processing\n",
      "22:39:06 - cmdstanpy - INFO - Chain [1] done processing\n"
     ]
    },
    {
     "name": "stdout",
     "output_type": "stream",
     "text": [
      "name:  MARCEL\n",
      "name:  NORBERT\n"
     ]
    },
    {
     "name": "stderr",
     "output_type": "stream",
     "text": [
      "22:39:06 - cmdstanpy - INFO - Chain [1] start processing\n",
      "22:39:06 - cmdstanpy - INFO - Chain [1] done processing\n",
      "22:39:06 - cmdstanpy - INFO - Chain [1] start processing\n"
     ]
    },
    {
     "name": "stdout",
     "output_type": "stream",
     "text": [
      "name:  MARIUSZ\n"
     ]
    },
    {
     "name": "stderr",
     "output_type": "stream",
     "text": [
      "22:39:06 - cmdstanpy - INFO - Chain [1] done processing\n",
      "22:39:06 - cmdstanpy - INFO - Chain [1] start processing\n"
     ]
    },
    {
     "name": "stdout",
     "output_type": "stream",
     "text": [
      "name:  ANDRZEJ\n"
     ]
    },
    {
     "name": "stderr",
     "output_type": "stream",
     "text": [
      "22:39:06 - cmdstanpy - INFO - Chain [1] done processing\n",
      "22:39:06 - cmdstanpy - INFO - Chain [1] start processing\n"
     ]
    },
    {
     "name": "stdout",
     "output_type": "stream",
     "text": [
      "name:  MAKSYMILIAN\n"
     ]
    },
    {
     "name": "stderr",
     "output_type": "stream",
     "text": [
      "22:39:07 - cmdstanpy - INFO - Chain [1] done processing\n",
      "22:39:07 - cmdstanpy - INFO - Chain [1] start processing\n",
      "22:39:07 - cmdstanpy - INFO - Chain [1] done processing\n"
     ]
    },
    {
     "name": "stdout",
     "output_type": "stream",
     "text": [
      "name:  JACEK\n"
     ]
    },
    {
     "name": "stderr",
     "output_type": "stream",
     "text": [
      "22:39:07 - cmdstanpy - INFO - Chain [1] start processing\n",
      "22:39:07 - cmdstanpy - INFO - Chain [1] done processing\n"
     ]
    },
    {
     "name": "stdout",
     "output_type": "stream",
     "text": [
      "name:  MIŁOSZ\n",
      "name:  DARIUSZ\n"
     ]
    },
    {
     "name": "stderr",
     "output_type": "stream",
     "text": [
      "22:39:07 - cmdstanpy - INFO - Chain [1] start processing\n",
      "22:39:07 - cmdstanpy - INFO - Chain [1] done processing\n",
      "22:39:07 - cmdstanpy - INFO - Chain [1] start processing\n"
     ]
    },
    {
     "name": "stdout",
     "output_type": "stream",
     "text": [
      "name:  CEZARY\n"
     ]
    },
    {
     "name": "stderr",
     "output_type": "stream",
     "text": [
      "22:39:07 - cmdstanpy - INFO - Chain [1] done processing\n",
      "22:39:08 - cmdstanpy - INFO - Chain [1] start processing\n"
     ]
    },
    {
     "name": "stdout",
     "output_type": "stream",
     "text": [
      "name:  IGOR\n"
     ]
    },
    {
     "name": "stderr",
     "output_type": "stream",
     "text": [
      "22:39:08 - cmdstanpy - INFO - Chain [1] done processing\n",
      "22:39:08 - cmdstanpy - INFO - Chain [1] start processing\n"
     ]
    },
    {
     "name": "stdout",
     "output_type": "stream",
     "text": [
      "name:  BŁAŻEJ\n"
     ]
    },
    {
     "name": "stderr",
     "output_type": "stream",
     "text": [
      "22:39:08 - cmdstanpy - INFO - Chain [1] done processing\n",
      "22:39:08 - cmdstanpy - INFO - Chain [1] start processing\n",
      "22:39:08 - cmdstanpy - INFO - Chain [1] done processing\n"
     ]
    },
    {
     "name": "stdout",
     "output_type": "stream",
     "text": [
      "name:  GABRIEL\n",
      "name:  JAROSŁAW\n"
     ]
    },
    {
     "name": "stderr",
     "output_type": "stream",
     "text": [
      "22:39:08 - cmdstanpy - INFO - Chain [1] start processing\n",
      "22:39:08 - cmdstanpy - INFO - Chain [1] done processing\n",
      "22:39:09 - cmdstanpy - INFO - Chain [1] start processing\n",
      "22:39:09 - cmdstanpy - INFO - Chain [1] done processing\n"
     ]
    },
    {
     "name": "stdout",
     "output_type": "stream",
     "text": [
      "name:  ALAN\n",
      "name:  STANISŁAW\n"
     ]
    },
    {
     "name": "stderr",
     "output_type": "stream",
     "text": [
      "22:39:09 - cmdstanpy - INFO - Chain [1] start processing\n",
      "22:39:09 - cmdstanpy - INFO - Chain [1] done processing\n",
      "22:39:09 - cmdstanpy - INFO - Chain [1] start processing\n",
      "22:39:09 - cmdstanpy - INFO - Chain [1] done processing\n"
     ]
    },
    {
     "name": "stdout",
     "output_type": "stream",
     "text": [
      "name:  GRACJAN\n",
      "name:  NIKODEM\n"
     ]
    },
    {
     "name": "stderr",
     "output_type": "stream",
     "text": [
      "22:39:09 - cmdstanpy - INFO - Chain [1] start processing\n",
      "22:39:09 - cmdstanpy - INFO - Chain [1] done processing\n",
      "22:39:09 - cmdstanpy - INFO - Chain [1] start processing\n",
      "22:39:09 - cmdstanpy - INFO - Chain [1] done processing\n"
     ]
    },
    {
     "name": "stdout",
     "output_type": "stream",
     "text": [
      "name:  EMIL\n"
     ]
    },
    {
     "name": "stderr",
     "output_type": "stream",
     "text": [
      "22:39:10 - cmdstanpy - INFO - Chain [1] start processing\n"
     ]
    },
    {
     "name": "stdout",
     "output_type": "stream",
     "text": [
      "name:  ALBERT\n"
     ]
    },
    {
     "name": "stderr",
     "output_type": "stream",
     "text": [
      "22:39:10 - cmdstanpy - INFO - Chain [1] done processing\n",
      "22:39:10 - cmdstanpy - INFO - Chain [1] start processing\n",
      "22:39:10 - cmdstanpy - INFO - Chain [1] done processing\n"
     ]
    },
    {
     "name": "stdout",
     "output_type": "stream",
     "text": [
      "name:  ANTONI\n"
     ]
    },
    {
     "name": "stderr",
     "output_type": "stream",
     "text": [
      "22:39:10 - cmdstanpy - INFO - Chain [1] start processing\n"
     ]
    },
    {
     "name": "stdout",
     "output_type": "stream",
     "text": [
      "name:  DENIS\n"
     ]
    },
    {
     "name": "stderr",
     "output_type": "stream",
     "text": [
      "22:39:10 - cmdstanpy - INFO - Chain [1] done processing\n",
      "22:39:10 - cmdstanpy - INFO - Chain [1] start processing\n"
     ]
    },
    {
     "name": "stdout",
     "output_type": "stream",
     "text": [
      "name:  ERNEST\n"
     ]
    },
    {
     "name": "stderr",
     "output_type": "stream",
     "text": [
      "22:39:10 - cmdstanpy - INFO - Chain [1] done processing\n",
      "22:39:11 - cmdstanpy - INFO - Chain [1] start processing\n",
      "22:39:11 - cmdstanpy - INFO - Chain [1] done processing\n"
     ]
    },
    {
     "name": "stdout",
     "output_type": "stream",
     "text": [
      "name:  FABIAN\n"
     ]
    },
    {
     "name": "stderr",
     "output_type": "stream",
     "text": [
      "22:39:11 - cmdstanpy - INFO - Chain [1] start processing\n"
     ]
    },
    {
     "name": "stdout",
     "output_type": "stream",
     "text": [
      "name:  SŁAWOMIR\n"
     ]
    },
    {
     "name": "stderr",
     "output_type": "stream",
     "text": [
      "22:39:11 - cmdstanpy - INFO - Chain [1] done processing\n",
      "22:39:11 - cmdstanpy - INFO - Chain [1] start processing\n"
     ]
    },
    {
     "name": "stdout",
     "output_type": "stream",
     "text": [
      "name:  TOBIASZ\n"
     ]
    },
    {
     "name": "stderr",
     "output_type": "stream",
     "text": [
      "22:39:11 - cmdstanpy - INFO - Chain [1] done processing\n",
      "22:39:11 - cmdstanpy - INFO - Chain [1] start processing\n"
     ]
    },
    {
     "name": "stdout",
     "output_type": "stream",
     "text": [
      "name:  TYMOTEUSZ\n"
     ]
    },
    {
     "name": "stderr",
     "output_type": "stream",
     "text": [
      "22:39:11 - cmdstanpy - INFO - Chain [1] done processing\n",
      "22:39:12 - cmdstanpy - INFO - Chain [1] start processing\n",
      "22:39:12 - cmdstanpy - INFO - Chain [1] done processing\n"
     ]
    },
    {
     "name": "stdout",
     "output_type": "stream",
     "text": [
      "name:  OLAF\n"
     ]
    },
    {
     "name": "stderr",
     "output_type": "stream",
     "text": [
      "22:39:12 - cmdstanpy - INFO - Chain [1] start processing\n"
     ]
    },
    {
     "name": "stdout",
     "output_type": "stream",
     "text": [
      "name:  JĘDRZEJ\n"
     ]
    },
    {
     "name": "stderr",
     "output_type": "stream",
     "text": [
      "22:39:12 - cmdstanpy - INFO - Chain [1] done processing\n",
      "22:39:12 - cmdstanpy - INFO - Chain [1] start processing\n"
     ]
    },
    {
     "name": "stdout",
     "output_type": "stream",
     "text": [
      "name:  SYLWESTER\n"
     ]
    },
    {
     "name": "stderr",
     "output_type": "stream",
     "text": [
      "22:39:12 - cmdstanpy - INFO - Chain [1] done processing\n",
      "22:39:12 - cmdstanpy - INFO - Chain [1] start processing\n",
      "22:39:12 - cmdstanpy - INFO - Chain [1] done processing\n"
     ]
    },
    {
     "name": "stdout",
     "output_type": "stream",
     "text": [
      "name:  FRANCISZEK\n"
     ]
    },
    {
     "name": "stderr",
     "output_type": "stream",
     "text": [
      "22:39:13 - cmdstanpy - INFO - Chain [1] start processing\n"
     ]
    },
    {
     "name": "stdout",
     "output_type": "stream",
     "text": [
      "name:  SEWERYN\n"
     ]
    },
    {
     "name": "stderr",
     "output_type": "stream",
     "text": [
      "22:39:13 - cmdstanpy - INFO - Chain [1] done processing\n",
      "22:39:13 - cmdstanpy - INFO - Chain [1] start processing\n"
     ]
    },
    {
     "name": "stdout",
     "output_type": "stream",
     "text": [
      "name:  REMIGIUSZ\n"
     ]
    },
    {
     "name": "stderr",
     "output_type": "stream",
     "text": [
      "22:39:13 - cmdstanpy - INFO - Chain [1] done processing\n",
      "22:39:13 - cmdstanpy - INFO - Chain [1] start processing\n"
     ]
    },
    {
     "name": "stdout",
     "output_type": "stream",
     "text": [
      "name:  KAJETAN\n"
     ]
    },
    {
     "name": "stderr",
     "output_type": "stream",
     "text": [
      "22:39:13 - cmdstanpy - INFO - Chain [1] done processing\n",
      "22:39:13 - cmdstanpy - INFO - Chain [1] start processing\n",
      "22:39:13 - cmdstanpy - INFO - Chain [1] done processing\n"
     ]
    },
    {
     "name": "stdout",
     "output_type": "stream",
     "text": [
      "name:  KUBA\n"
     ]
    },
    {
     "name": "stderr",
     "output_type": "stream",
     "text": [
      "22:39:13 - cmdstanpy - INFO - Chain [1] start processing\n"
     ]
    },
    {
     "name": "stdout",
     "output_type": "stream",
     "text": [
      "name:  KORNEL\n"
     ]
    },
    {
     "name": "stderr",
     "output_type": "stream",
     "text": [
      "22:39:14 - cmdstanpy - INFO - Chain [1] done processing\n",
      "22:39:14 - cmdstanpy - INFO - Chain [1] start processing\n",
      "22:39:14 - cmdstanpy - INFO - Chain [1] done processing\n"
     ]
    },
    {
     "name": "stdout",
     "output_type": "stream",
     "text": [
      "name:  KEWIN\n"
     ]
    },
    {
     "name": "stderr",
     "output_type": "stream",
     "text": [
      "22:39:14 - cmdstanpy - INFO - Chain [1] start processing\n",
      "22:39:14 - cmdstanpy - INFO - Chain [1] done processing\n"
     ]
    },
    {
     "name": "stdout",
     "output_type": "stream",
     "text": [
      "name:  BRAJAN\n"
     ]
    },
    {
     "name": "stderr",
     "output_type": "stream",
     "text": [
      "22:39:14 - cmdstanpy - INFO - Chain [1] start processing\n"
     ]
    },
    {
     "name": "stdout",
     "output_type": "stream",
     "text": [
      "name:  JULIAN\n"
     ]
    },
    {
     "name": "stderr",
     "output_type": "stream",
     "text": [
      "22:39:14 - cmdstanpy - INFO - Chain [1] done processing\n",
      "22:39:14 - cmdstanpy - INFO - Chain [1] start processing\n"
     ]
    },
    {
     "name": "stdout",
     "output_type": "stream",
     "text": [
      "name:  KEVIN\n"
     ]
    },
    {
     "name": "stderr",
     "output_type": "stream",
     "text": [
      "22:39:14 - cmdstanpy - INFO - Chain [1] done processing\n",
      "22:39:15 - cmdstanpy - INFO - Chain [1] start processing\n"
     ]
    },
    {
     "name": "stdout",
     "output_type": "stream",
     "text": [
      "name:  DORIAN\n"
     ]
    },
    {
     "name": "stderr",
     "output_type": "stream",
     "text": [
      "22:39:15 - cmdstanpy - INFO - Chain [1] done processing\n",
      "22:39:15 - cmdstanpy - INFO - Chain [1] start processing\n",
      "22:39:15 - cmdstanpy - INFO - Chain [1] done processing\n"
     ]
    },
    {
     "name": "stdout",
     "output_type": "stream",
     "text": [
      "name:  CYPRIAN\n"
     ]
    },
    {
     "name": "stderr",
     "output_type": "stream",
     "text": [
      "22:39:15 - cmdstanpy - INFO - Chain [1] start processing\n"
     ]
    },
    {
     "name": "stdout",
     "output_type": "stream",
     "text": [
      "name:  WITOLD\n"
     ]
    },
    {
     "name": "stderr",
     "output_type": "stream",
     "text": [
      "22:39:15 - cmdstanpy - INFO - Chain [1] done processing\n",
      "22:39:15 - cmdstanpy - INFO - Chain [1] start processing\n",
      "22:39:15 - cmdstanpy - INFO - Chain [1] done processing\n"
     ]
    },
    {
     "name": "stdout",
     "output_type": "stream",
     "text": [
      "name:  NATAN\n",
      "name:  OLIWIER\n"
     ]
    },
    {
     "name": "stderr",
     "output_type": "stream",
     "text": [
      "22:39:15 - cmdstanpy - INFO - Chain [1] start processing\n",
      "22:39:16 - cmdstanpy - INFO - Chain [1] done processing\n",
      "22:39:16 - cmdstanpy - INFO - Chain [1] start processing\n",
      "22:39:16 - cmdstanpy - INFO - Chain [1] done processing\n"
     ]
    },
    {
     "name": "stdout",
     "output_type": "stream",
     "text": [
      "name:  DAVID\n",
      "name:  JERZY\n"
     ]
    },
    {
     "name": "stderr",
     "output_type": "stream",
     "text": [
      "22:39:16 - cmdstanpy - INFO - Chain [1] start processing\n",
      "22:39:16 - cmdstanpy - INFO - Chain [1] done processing\n",
      "22:39:16 - cmdstanpy - INFO - Chain [1] start processing\n",
      "22:39:16 - cmdstanpy - INFO - Chain [1] done processing\n"
     ]
    },
    {
     "name": "stdout",
     "output_type": "stream",
     "text": [
      "name:  BENIAMIN\n"
     ]
    },
    {
     "name": "stderr",
     "output_type": "stream",
     "text": [
      "22:39:16 - cmdstanpy - INFO - Chain [1] start processing\n",
      "22:39:16 - cmdstanpy - INFO - Chain [1] done processing\n"
     ]
    },
    {
     "name": "stdout",
     "output_type": "stream",
     "text": [
      "name:  ROMAN\n"
     ]
    },
    {
     "name": "stderr",
     "output_type": "stream",
     "text": [
      "22:39:17 - cmdstanpy - INFO - Chain [1] start processing\n"
     ]
    },
    {
     "name": "stdout",
     "output_type": "stream",
     "text": [
      "name:  SAMUEL\n"
     ]
    },
    {
     "name": "stderr",
     "output_type": "stream",
     "text": [
      "22:39:17 - cmdstanpy - INFO - Chain [1] done processing\n",
      "22:39:17 - cmdstanpy - INFO - Chain [1] start processing\n",
      "22:39:17 - cmdstanpy - INFO - Chain [1] done processing\n"
     ]
    },
    {
     "name": "stdout",
     "output_type": "stream",
     "text": [
      "name:  BORYS\n"
     ]
    },
    {
     "name": "stderr",
     "output_type": "stream",
     "text": [
      "22:39:17 - cmdstanpy - INFO - Chain [1] start processing\n",
      "22:39:17 - cmdstanpy - INFO - Chain [1] done processing\n"
     ]
    },
    {
     "name": "stdout",
     "output_type": "stream",
     "text": [
      "name:  KORDIAN\n"
     ]
    },
    {
     "name": "stderr",
     "output_type": "stream",
     "text": [
      "22:39:17 - cmdstanpy - INFO - Chain [1] start processing\n"
     ]
    },
    {
     "name": "stdout",
     "output_type": "stream",
     "text": [
      "name:  JÓZEF\n"
     ]
    },
    {
     "name": "stderr",
     "output_type": "stream",
     "text": [
      "22:39:17 - cmdstanpy - INFO - Chain [1] done processing\n",
      "22:39:18 - cmdstanpy - INFO - Chain [1] start processing\n",
      "22:39:18 - cmdstanpy - INFO - Chain [1] done processing\n"
     ]
    },
    {
     "name": "stdout",
     "output_type": "stream",
     "text": [
      "name:  JULIUSZ\n"
     ]
    },
    {
     "name": "stderr",
     "output_type": "stream",
     "text": [
      "22:39:18 - cmdstanpy - INFO - Chain [1] start processing\n",
      "22:39:18 - cmdstanpy - INFO - Chain [1] done processing\n"
     ]
    },
    {
     "name": "stdout",
     "output_type": "stream",
     "text": [
      "name:  ALEKS\n"
     ]
    },
    {
     "name": "stderr",
     "output_type": "stream",
     "text": [
      "22:39:18 - cmdstanpy - INFO - Chain [1] start processing\n",
      "22:39:18 - cmdstanpy - INFO - Chain [1] done processing\n"
     ]
    },
    {
     "name": "stdout",
     "output_type": "stream",
     "text": [
      "name:  OLIWER\n",
      "name:  TADEUSZ\n"
     ]
    },
    {
     "name": "stderr",
     "output_type": "stream",
     "text": [
      "22:39:18 - cmdstanpy - INFO - Chain [1] start processing\n",
      "22:39:18 - cmdstanpy - INFO - Chain [1] done processing\n",
      "22:39:18 - cmdstanpy - INFO - Chain [1] start processing\n",
      "22:39:19 - cmdstanpy - INFO - Chain [1] done processing\n"
     ]
    },
    {
     "name": "stdout",
     "output_type": "stream",
     "text": [
      "name:  IGNACY\n"
     ]
    },
    {
     "name": "stderr",
     "output_type": "stream",
     "text": [
      "22:39:19 - cmdstanpy - INFO - Chain [1] start processing\n",
      "22:39:19 - cmdstanpy - INFO - Chain [1] done processing\n"
     ]
    },
    {
     "name": "stdout",
     "output_type": "stream",
     "text": [
      "name:  KLAUDIUSZ\n"
     ]
    },
    {
     "name": "stderr",
     "output_type": "stream",
     "text": [
      "22:39:19 - cmdstanpy - INFO - Chain [1] start processing\n"
     ]
    },
    {
     "name": "stdout",
     "output_type": "stream",
     "text": [
      "name:  MAKSYM\n"
     ]
    },
    {
     "name": "stderr",
     "output_type": "stream",
     "text": [
      "22:39:19 - cmdstanpy - INFO - Chain [1] done processing\n",
      "22:39:19 - cmdstanpy - INFO - Chain [1] start processing\n"
     ]
    },
    {
     "name": "stdout",
     "output_type": "stream",
     "text": [
      "name:  RYSZARD\n"
     ]
    },
    {
     "name": "stderr",
     "output_type": "stream",
     "text": [
      "22:39:19 - cmdstanpy - INFO - Chain [1] done processing\n",
      "22:39:19 - cmdstanpy - INFO - Chain [1] start processing\n",
      "22:39:19 - cmdstanpy - INFO - Chain [1] done processing\n"
     ]
    },
    {
     "name": "stdout",
     "output_type": "stream",
     "text": [
      "name:  ALEXANDER\n",
      "name:  BRUNO\n"
     ]
    },
    {
     "name": "stderr",
     "output_type": "stream",
     "text": [
      "22:39:20 - cmdstanpy - INFO - Chain [1] start processing\n",
      "22:39:20 - cmdstanpy - INFO - Chain [1] done processing\n",
      "22:39:20 - cmdstanpy - INFO - Chain [1] start processing\n",
      "22:39:20 - cmdstanpy - INFO - Chain [1] done processing\n"
     ]
    },
    {
     "name": "stdout",
     "output_type": "stream",
     "text": [
      "name:  ALEX\n"
     ]
    },
    {
     "name": "stderr",
     "output_type": "stream",
     "text": [
      "22:39:20 - cmdstanpy - INFO - Chain [1] start processing\n",
      "22:39:20 - cmdstanpy - INFO - Chain [1] done processing\n"
     ]
    },
    {
     "name": "stdout",
     "output_type": "stream",
     "text": [
      "name:  OLIVER\n",
      "name:  JEREMI\n"
     ]
    },
    {
     "name": "stderr",
     "output_type": "stream",
     "text": [
      "22:39:20 - cmdstanpy - INFO - Chain [1] start processing\n",
      "22:39:20 - cmdstanpy - INFO - Chain [1] done processing\n",
      "22:39:21 - cmdstanpy - INFO - Chain [1] start processing\n"
     ]
    },
    {
     "name": "stdout",
     "output_type": "stream",
     "text": [
      "name:  STEFAN\n"
     ]
    },
    {
     "name": "stderr",
     "output_type": "stream",
     "text": [
      "22:39:21 - cmdstanpy - INFO - Chain [1] done processing\n",
      "22:39:21 - cmdstanpy - INFO - Chain [1] start processing\n",
      "22:39:21 - cmdstanpy - INFO - Chain [1] done processing\n"
     ]
    },
    {
     "name": "stdout",
     "output_type": "stream",
     "text": [
      "name:  MIESZKO\n"
     ]
    },
    {
     "name": "stderr",
     "output_type": "stream",
     "text": [
      "22:39:21 - cmdstanpy - INFO - Chain [1] start processing\n",
      "22:39:21 - cmdstanpy - INFO - Chain [1] done processing\n"
     ]
    },
    {
     "name": "stdout",
     "output_type": "stream",
     "text": [
      "name:  IWO\n",
      "name:  MAXIMILIAN\n"
     ]
    },
    {
     "name": "stderr",
     "output_type": "stream",
     "text": [
      "22:39:21 - cmdstanpy - INFO - Chain [1] start processing\n",
      "22:39:21 - cmdstanpy - INFO - Chain [1] done processing\n",
      "22:39:22 - cmdstanpy - INFO - Chain [1] start processing\n"
     ]
    },
    {
     "name": "stdout",
     "output_type": "stream",
     "text": [
      "name:  MAURYCY\n"
     ]
    },
    {
     "name": "stderr",
     "output_type": "stream",
     "text": [
      "22:39:22 - cmdstanpy - INFO - Chain [1] done processing\n",
      "22:39:22 - cmdstanpy - INFO - Chain [1] start processing\n",
      "22:39:22 - cmdstanpy - INFO - Chain [1] done processing\n"
     ]
    },
    {
     "name": "stdout",
     "output_type": "stream",
     "text": [
      "name:  NATANIEL\n",
      "name:  TYMON\n"
     ]
    },
    {
     "name": "stderr",
     "output_type": "stream",
     "text": [
      "22:39:22 - cmdstanpy - INFO - Chain [1] start processing\n",
      "22:39:22 - cmdstanpy - INFO - Chain [1] done processing\n",
      "22:39:22 - cmdstanpy - INFO - Chain [1] start processing\n"
     ]
    },
    {
     "name": "stdout",
     "output_type": "stream",
     "text": [
      "name:  LEON\n"
     ]
    },
    {
     "name": "stderr",
     "output_type": "stream",
     "text": [
      "22:39:22 - cmdstanpy - INFO - Chain [1] done processing\n",
      "22:39:22 - cmdstanpy - INFO - Chain [1] start processing\n",
      "22:39:23 - cmdstanpy - INFO - Chain [1] done processing\n"
     ]
    },
    {
     "name": "stdout",
     "output_type": "stream",
     "text": [
      "name:  HENRYK\n"
     ]
    },
    {
     "name": "stderr",
     "output_type": "stream",
     "text": [
      "22:39:23 - cmdstanpy - INFO - Chain [1] start processing\n"
     ]
    },
    {
     "name": "stdout",
     "output_type": "stream",
     "text": [
      "name:  KSAWERY\n"
     ]
    },
    {
     "name": "stderr",
     "output_type": "stream",
     "text": [
      "22:39:23 - cmdstanpy - INFO - Chain [1] done processing\n",
      "22:39:23 - cmdstanpy - INFO - Chain [1] start processing\n"
     ]
    },
    {
     "name": "stdout",
     "output_type": "stream",
     "text": [
      "name:  KONSTANTY\n"
     ]
    },
    {
     "name": "stderr",
     "output_type": "stream",
     "text": [
      "22:39:23 - cmdstanpy - INFO - Chain [1] done processing\n",
      "22:39:23 - cmdstanpy - INFO - Chain [1] start processing\n",
      "22:39:23 - cmdstanpy - INFO - Chain [1] done processing\n"
     ]
    },
    {
     "name": "stdout",
     "output_type": "stream",
     "text": [
      "name:  OSCAR\n"
     ]
    },
    {
     "name": "stderr",
     "output_type": "stream",
     "text": [
      "22:39:23 - cmdstanpy - INFO - Chain [1] start processing\n"
     ]
    },
    {
     "name": "stdout",
     "output_type": "stream",
     "text": [
      "name:  FLORIAN\n"
     ]
    },
    {
     "name": "stderr",
     "output_type": "stream",
     "text": [
      "22:39:24 - cmdstanpy - INFO - Chain [1] done processing\n",
      "22:39:24 - cmdstanpy - INFO - Chain [1] start processing\n",
      "22:39:24 - cmdstanpy - INFO - Chain [1] done processing\n"
     ]
    },
    {
     "name": "stdout",
     "output_type": "stream",
     "text": [
      "name:  GUSTAW\n"
     ]
    },
    {
     "name": "stderr",
     "output_type": "stream",
     "text": [
      "22:39:24 - cmdstanpy - INFO - Chain [1] start processing\n",
      "22:39:24 - cmdstanpy - INFO - Chain [1] done processing\n"
     ]
    },
    {
     "name": "stdout",
     "output_type": "stream",
     "text": [
      "name:  KAZIMIERZ\n"
     ]
    },
    {
     "name": "stderr",
     "output_type": "stream",
     "text": [
      "22:39:24 - cmdstanpy - INFO - Chain [1] start processing\n"
     ]
    },
    {
     "name": "stdout",
     "output_type": "stream",
     "text": [
      "name:  MILAN\n"
     ]
    },
    {
     "name": "stderr",
     "output_type": "stream",
     "text": [
      "22:39:24 - cmdstanpy - INFO - Chain [1] done processing\n",
      "22:39:24 - cmdstanpy - INFO - Chain [1] start processing\n",
      "22:39:24 - cmdstanpy - INFO - Chain [1] done processing\n"
     ]
    },
    {
     "name": "stdout",
     "output_type": "stream",
     "text": [
      "name:  LEONARD\n"
     ]
    },
    {
     "name": "stderr",
     "output_type": "stream",
     "text": [
      "22:39:25 - cmdstanpy - INFO - Chain [1] start processing\n",
      "22:39:25 - cmdstanpy - INFO - Chain [1] done processing\n"
     ]
    },
    {
     "name": "stdout",
     "output_type": "stream",
     "text": [
      "name:  OLIVIER\n",
      "name:  LUCJAN\n"
     ]
    },
    {
     "name": "stderr",
     "output_type": "stream",
     "text": [
      "22:39:25 - cmdstanpy - INFO - Chain [1] start processing\n",
      "22:39:25 - cmdstanpy - INFO - Chain [1] done processing\n",
      "22:39:25 - cmdstanpy - INFO - Chain [1] start processing\n",
      "22:39:25 - cmdstanpy - INFO - Chain [1] done processing\n"
     ]
    },
    {
     "name": "stdout",
     "output_type": "stream",
     "text": [
      "name:  MARK\n"
     ]
    },
    {
     "name": "stderr",
     "output_type": "stream",
     "text": [
      "22:39:25 - cmdstanpy - INFO - Chain [1] start processing\n",
      "22:39:25 - cmdstanpy - INFO - Chain [1] done processing\n"
     ]
    },
    {
     "name": "stdout",
     "output_type": "stream",
     "text": [
      "name:  OLEKSANDR\n"
     ]
    },
    {
     "name": "stderr",
     "output_type": "stream",
     "text": [
      "22:39:25 - cmdstanpy - INFO - Chain [1] start processing\n",
      "22:39:26 - cmdstanpy - INFO - Chain [1] done processing\n"
     ]
    },
    {
     "name": "stdout",
     "output_type": "stream",
     "text": [
      "name:  LUDWIK\n"
     ]
    },
    {
     "name": "stderr",
     "output_type": "stream",
     "text": [
      "22:39:26 - cmdstanpy - INFO - Chain [1] start processing\n",
      "22:39:26 - cmdstanpy - INFO - Chain [1] done processing\n"
     ]
    },
    {
     "name": "stdout",
     "output_type": "stream",
     "text": [
      "name:  NATHAN\n",
      "name:  FELIKS\n"
     ]
    },
    {
     "name": "stderr",
     "output_type": "stream",
     "text": [
      "22:39:26 - cmdstanpy - INFO - Chain [1] start processing\n",
      "22:39:26 - cmdstanpy - INFO - Chain [1] done processing\n",
      "22:39:26 - cmdstanpy - INFO - Chain [1] start processing\n",
      "22:39:26 - cmdstanpy - INFO - Chain [1] done processing\n"
     ]
    },
    {
     "name": "stdout",
     "output_type": "stream",
     "text": [
      "name:  LEO\n"
     ]
    },
    {
     "name": "stderr",
     "output_type": "stream",
     "text": [
      "22:39:26 - cmdstanpy - INFO - Chain [1] start processing\n",
      "22:39:26 - cmdstanpy - INFO - Chain [1] done processing\n"
     ]
    },
    {
     "name": "stdout",
     "output_type": "stream",
     "text": [
      "name:  HUGO\n",
      "name:  ARTEM\n"
     ]
    },
    {
     "name": "stderr",
     "output_type": "stream",
     "text": [
      "22:39:27 - cmdstanpy - INFO - Chain [1] start processing\n",
      "22:39:27 - cmdstanpy - INFO - Chain [1] done processing\n",
      "22:39:27 - cmdstanpy - INFO - Chain [1] start processing\n",
      "22:39:27 - cmdstanpy - INFO - Chain [1] done processing\n"
     ]
    },
    {
     "name": "stdout",
     "output_type": "stream",
     "text": [
      "name:  TEODOR\n",
      "name:  LIAM\n"
     ]
    },
    {
     "name": "stderr",
     "output_type": "stream",
     "text": [
      "22:39:27 - cmdstanpy - INFO - Chain [1] start processing\n",
      "22:39:27 - cmdstanpy - INFO - Chain [1] done processing\n",
      "22:39:27 - cmdstanpy - INFO - Chain [1] start processing\n",
      "22:39:27 - cmdstanpy - INFO - Chain [1] done processing\n"
     ]
    },
    {
     "name": "stdout",
     "output_type": "stream",
     "text": [
      "name:  TYMOFII\n",
      "name:  MATVII\n"
     ]
    },
    {
     "name": "stderr",
     "output_type": "stream",
     "text": [
      "22:39:27 - cmdstanpy - INFO - Chain [1] start processing\n",
      "22:39:27 - cmdstanpy - INFO - Chain [1] done processing\n"
     ]
    }
   ],
   "source": [
    "p = []\n",
    "\n",
    "for name in train[\"IMIĘ_PIERWSZE\"].unique():\n",
    "    print(\"name: \", name)\n",
    "    train_ = train.loc[train.IMIĘ_PIERWSZE == name]\n",
    "    valid_ = valid.loc[valid.IMIĘ_PIERWSZE == name]\n",
    "\n",
    "    m = Prophet(seasonality_mode=\"additive\")\n",
    "    m.fit(train_)\n",
    "\n",
    "    future = m.make_future_dataframe(periods = 3, freq=\"Y\", include_history=True)\n",
    "    future = future.merge(valid_[['ds']], on='ds', how='left')\n",
    "    forecast = m.predict(future)\n",
    "    forecast['IMIĘ_PIERWSZE'] = name\n",
    "    p.append(forecast[['ds', 'yhat', 'IMIĘ_PIERWSZE']])\n",
    "\n",
    "p = pd.concat(p, ignore_index=True)\n",
    "p['yhat'] = p['yhat'].clip(lower=0)\n",
    "\n",
    "\n",
    "\n"
   ]
  },
  {
   "cell_type": "code",
   "execution_count": 156,
   "metadata": {},
   "outputs": [],
   "source": [
    "p = p.merge(pd.concat([train,valid], ignore_index=True), on=['ds', 'IMIĘ_PIERWSZE'], how='left')"
   ]
  },
  {
   "cell_type": "code",
   "execution_count": 157,
   "metadata": {},
   "outputs": [
    {
     "data": {
      "text/plain": [
       "0.13263880369037273"
      ]
     },
     "execution_count": 157,
     "metadata": {},
     "output_type": "execute_result"
    }
   ],
   "source": [
    "wmape(p['y'], p['yhat'])"
   ]
  },
  {
   "cell_type": "code",
   "execution_count": 158,
   "metadata": {},
   "outputs": [
    {
     "data": {
      "text/html": [
       "<div>\n",
       "<style scoped>\n",
       "    .dataframe tbody tr th:only-of-type {\n",
       "        vertical-align: middle;\n",
       "    }\n",
       "\n",
       "    .dataframe tbody tr th {\n",
       "        vertical-align: top;\n",
       "    }\n",
       "\n",
       "    .dataframe thead th {\n",
       "        text-align: right;\n",
       "    }\n",
       "</style>\n",
       "<table border=\"1\" class=\"dataframe\">\n",
       "  <thead>\n",
       "    <tr style=\"text-align: right;\">\n",
       "      <th></th>\n",
       "      <th>ds</th>\n",
       "      <th>yhat</th>\n",
       "      <th>IMIĘ_PIERWSZE</th>\n",
       "      <th>LICZBA_WYSTĄPIEŃ</th>\n",
       "      <th>PŁEĆ</th>\n",
       "      <th>LW_ROCZNA</th>\n",
       "      <th>y</th>\n",
       "    </tr>\n",
       "  </thead>\n",
       "  <tbody>\n",
       "    <tr>\n",
       "      <th>0</th>\n",
       "      <td>2000-12-31</td>\n",
       "      <td>9.162166</td>\n",
       "      <td>JAKUB</td>\n",
       "      <td>14497.0</td>\n",
       "      <td>MĘŻCZYZNA</td>\n",
       "      <td>197263.0</td>\n",
       "      <td>7.349072</td>\n",
       "    </tr>\n",
       "    <tr>\n",
       "      <th>1</th>\n",
       "      <td>2001-12-31</td>\n",
       "      <td>9.060911</td>\n",
       "      <td>JAKUB</td>\n",
       "      <td>18612.0</td>\n",
       "      <td>MĘŻCZYZNA</td>\n",
       "      <td>191947.0</td>\n",
       "      <td>9.696427</td>\n",
       "    </tr>\n",
       "    <tr>\n",
       "      <th>2</th>\n",
       "      <td>2002-12-31</td>\n",
       "      <td>8.865634</td>\n",
       "      <td>JAKUB</td>\n",
       "      <td>18018.0</td>\n",
       "      <td>MĘŻCZYZNA</td>\n",
       "      <td>185415.0</td>\n",
       "      <td>9.717660</td>\n",
       "    </tr>\n",
       "    <tr>\n",
       "      <th>3</th>\n",
       "      <td>2003-12-31</td>\n",
       "      <td>8.576220</td>\n",
       "      <td>JAKUB</td>\n",
       "      <td>16429.0</td>\n",
       "      <td>MĘŻCZYZNA</td>\n",
       "      <td>183215.0</td>\n",
       "      <td>8.967061</td>\n",
       "    </tr>\n",
       "    <tr>\n",
       "      <th>4</th>\n",
       "      <td>2004-12-31</td>\n",
       "      <td>7.986235</td>\n",
       "      <td>JAKUB</td>\n",
       "      <td>16431.0</td>\n",
       "      <td>MĘŻCZYZNA</td>\n",
       "      <td>186903.0</td>\n",
       "      <td>8.791191</td>\n",
       "    </tr>\n",
       "    <tr>\n",
       "      <th>5</th>\n",
       "      <td>2005-12-31</td>\n",
       "      <td>7.884980</td>\n",
       "      <td>JAKUB</td>\n",
       "      <td>15802.0</td>\n",
       "      <td>MĘŻCZYZNA</td>\n",
       "      <td>192820.0</td>\n",
       "      <td>8.195208</td>\n",
       "    </tr>\n",
       "    <tr>\n",
       "      <th>6</th>\n",
       "      <td>2006-12-31</td>\n",
       "      <td>7.689703</td>\n",
       "      <td>JAKUB</td>\n",
       "      <td>15756.0</td>\n",
       "      <td>MĘŻCZYZNA</td>\n",
       "      <td>200796.0</td>\n",
       "      <td>7.846770</td>\n",
       "    </tr>\n",
       "    <tr>\n",
       "      <th>7</th>\n",
       "      <td>2007-12-31</td>\n",
       "      <td>7.400289</td>\n",
       "      <td>JAKUB</td>\n",
       "      <td>16118.0</td>\n",
       "      <td>MĘŻCZYZNA</td>\n",
       "      <td>211946.0</td>\n",
       "      <td>7.604767</td>\n",
       "    </tr>\n",
       "    <tr>\n",
       "      <th>8</th>\n",
       "      <td>2008-12-31</td>\n",
       "      <td>6.810304</td>\n",
       "      <td>JAKUB</td>\n",
       "      <td>15843.0</td>\n",
       "      <td>MĘŻCZYZNA</td>\n",
       "      <td>227408.0</td>\n",
       "      <td>6.966773</td>\n",
       "    </tr>\n",
       "    <tr>\n",
       "      <th>9</th>\n",
       "      <td>2009-12-31</td>\n",
       "      <td>6.709049</td>\n",
       "      <td>JAKUB</td>\n",
       "      <td>14736.0</td>\n",
       "      <td>MĘŻCZYZNA</td>\n",
       "      <td>230881.0</td>\n",
       "      <td>6.382509</td>\n",
       "    </tr>\n",
       "    <tr>\n",
       "      <th>10</th>\n",
       "      <td>2010-12-31</td>\n",
       "      <td>6.513772</td>\n",
       "      <td>JAKUB</td>\n",
       "      <td>13764.0</td>\n",
       "      <td>MĘŻCZYZNA</td>\n",
       "      <td>229289.0</td>\n",
       "      <td>6.002905</td>\n",
       "    </tr>\n",
       "    <tr>\n",
       "      <th>11</th>\n",
       "      <td>2011-12-31</td>\n",
       "      <td>6.224358</td>\n",
       "      <td>JAKUB</td>\n",
       "      <td>12661.0</td>\n",
       "      <td>MĘŻCZYZNA</td>\n",
       "      <td>216221.0</td>\n",
       "      <td>5.855583</td>\n",
       "    </tr>\n",
       "    <tr>\n",
       "      <th>12</th>\n",
       "      <td>2012-12-31</td>\n",
       "      <td>5.634378</td>\n",
       "      <td>JAKUB</td>\n",
       "      <td>11989.0</td>\n",
       "      <td>MĘŻCZYZNA</td>\n",
       "      <td>216021.0</td>\n",
       "      <td>5.549923</td>\n",
       "    </tr>\n",
       "    <tr>\n",
       "      <th>13</th>\n",
       "      <td>2013-12-31</td>\n",
       "      <td>5.533127</td>\n",
       "      <td>JAKUB</td>\n",
       "      <td>10870.0</td>\n",
       "      <td>MĘŻCZYZNA</td>\n",
       "      <td>207514.0</td>\n",
       "      <td>5.238201</td>\n",
       "    </tr>\n",
       "    <tr>\n",
       "      <th>14</th>\n",
       "      <td>2014-12-31</td>\n",
       "      <td>5.337854</td>\n",
       "      <td>JAKUB</td>\n",
       "      <td>10229.0</td>\n",
       "      <td>MĘŻCZYZNA</td>\n",
       "      <td>211319.0</td>\n",
       "      <td>4.840549</td>\n",
       "    </tr>\n",
       "    <tr>\n",
       "      <th>15</th>\n",
       "      <td>2015-12-31</td>\n",
       "      <td>5.048445</td>\n",
       "      <td>JAKUB</td>\n",
       "      <td>9204.0</td>\n",
       "      <td>MĘŻCZYZNA</td>\n",
       "      <td>210571.0</td>\n",
       "      <td>4.370972</td>\n",
       "    </tr>\n",
       "    <tr>\n",
       "      <th>16</th>\n",
       "      <td>2016-12-31</td>\n",
       "      <td>4.458467</td>\n",
       "      <td>JAKUB</td>\n",
       "      <td>9307.0</td>\n",
       "      <td>MĘŻCZYZNA</td>\n",
       "      <td>214638.0</td>\n",
       "      <td>4.336138</td>\n",
       "    </tr>\n",
       "    <tr>\n",
       "      <th>17</th>\n",
       "      <td>2017-12-31</td>\n",
       "      <td>4.357219</td>\n",
       "      <td>JAKUB</td>\n",
       "      <td>9316.0</td>\n",
       "      <td>MĘŻCZYZNA</td>\n",
       "      <td>220634.0</td>\n",
       "      <td>4.222377</td>\n",
       "    </tr>\n",
       "    <tr>\n",
       "      <th>18</th>\n",
       "      <td>2018-12-31</td>\n",
       "      <td>4.161949</td>\n",
       "      <td>JAKUB</td>\n",
       "      <td>8908.0</td>\n",
       "      <td>MĘŻCZYZNA</td>\n",
       "      <td>206849.0</td>\n",
       "      <td>4.306523</td>\n",
       "    </tr>\n",
       "    <tr>\n",
       "      <th>19</th>\n",
       "      <td>2019-12-31</td>\n",
       "      <td>3.872542</td>\n",
       "      <td>JAKUB</td>\n",
       "      <td>7966.0</td>\n",
       "      <td>MĘŻCZYZNA</td>\n",
       "      <td>199134.0</td>\n",
       "      <td>4.000321</td>\n",
       "    </tr>\n",
       "    <tr>\n",
       "      <th>20</th>\n",
       "      <td>2020-12-31</td>\n",
       "      <td>3.282564</td>\n",
       "      <td>JAKUB</td>\n",
       "      <td>7162.0</td>\n",
       "      <td>MĘŻCZYZNA</td>\n",
       "      <td>186590.0</td>\n",
       "      <td>3.838362</td>\n",
       "    </tr>\n",
       "    <tr>\n",
       "      <th>21</th>\n",
       "      <td>2021-12-31</td>\n",
       "      <td>3.181316</td>\n",
       "      <td>JAKUB</td>\n",
       "      <td>6427.0</td>\n",
       "      <td>MĘŻCZYZNA</td>\n",
       "      <td>175132.0</td>\n",
       "      <td>3.669803</td>\n",
       "    </tr>\n",
       "    <tr>\n",
       "      <th>22</th>\n",
       "      <td>2022-12-31</td>\n",
       "      <td>2.986046</td>\n",
       "      <td>JAKUB</td>\n",
       "      <td>5535.0</td>\n",
       "      <td>MĘŻCZYZNA</td>\n",
       "      <td>163864.0</td>\n",
       "      <td>3.377801</td>\n",
       "    </tr>\n",
       "    <tr>\n",
       "      <th>23</th>\n",
       "      <td>2023-12-31</td>\n",
       "      <td>2.696639</td>\n",
       "      <td>JAKUB</td>\n",
       "      <td>4474.0</td>\n",
       "      <td>MĘŻCZYZNA</td>\n",
       "      <td>145349.0</td>\n",
       "      <td>3.078109</td>\n",
       "    </tr>\n",
       "    <tr>\n",
       "      <th>24</th>\n",
       "      <td>2024-12-31</td>\n",
       "      <td>2.106661</td>\n",
       "      <td>JAKUB</td>\n",
       "      <td>NaN</td>\n",
       "      <td>NaN</td>\n",
       "      <td>NaN</td>\n",
       "      <td>NaN</td>\n",
       "    </tr>\n",
       "  </tbody>\n",
       "</table>\n",
       "</div>"
      ],
      "text/plain": [
       "           ds      yhat IMIĘ_PIERWSZE  LICZBA_WYSTĄPIEŃ       PŁEĆ  LW_ROCZNA  \\\n",
       "0  2000-12-31  9.162166         JAKUB           14497.0  MĘŻCZYZNA   197263.0   \n",
       "1  2001-12-31  9.060911         JAKUB           18612.0  MĘŻCZYZNA   191947.0   \n",
       "2  2002-12-31  8.865634         JAKUB           18018.0  MĘŻCZYZNA   185415.0   \n",
       "3  2003-12-31  8.576220         JAKUB           16429.0  MĘŻCZYZNA   183215.0   \n",
       "4  2004-12-31  7.986235         JAKUB           16431.0  MĘŻCZYZNA   186903.0   \n",
       "5  2005-12-31  7.884980         JAKUB           15802.0  MĘŻCZYZNA   192820.0   \n",
       "6  2006-12-31  7.689703         JAKUB           15756.0  MĘŻCZYZNA   200796.0   \n",
       "7  2007-12-31  7.400289         JAKUB           16118.0  MĘŻCZYZNA   211946.0   \n",
       "8  2008-12-31  6.810304         JAKUB           15843.0  MĘŻCZYZNA   227408.0   \n",
       "9  2009-12-31  6.709049         JAKUB           14736.0  MĘŻCZYZNA   230881.0   \n",
       "10 2010-12-31  6.513772         JAKUB           13764.0  MĘŻCZYZNA   229289.0   \n",
       "11 2011-12-31  6.224358         JAKUB           12661.0  MĘŻCZYZNA   216221.0   \n",
       "12 2012-12-31  5.634378         JAKUB           11989.0  MĘŻCZYZNA   216021.0   \n",
       "13 2013-12-31  5.533127         JAKUB           10870.0  MĘŻCZYZNA   207514.0   \n",
       "14 2014-12-31  5.337854         JAKUB           10229.0  MĘŻCZYZNA   211319.0   \n",
       "15 2015-12-31  5.048445         JAKUB            9204.0  MĘŻCZYZNA   210571.0   \n",
       "16 2016-12-31  4.458467         JAKUB            9307.0  MĘŻCZYZNA   214638.0   \n",
       "17 2017-12-31  4.357219         JAKUB            9316.0  MĘŻCZYZNA   220634.0   \n",
       "18 2018-12-31  4.161949         JAKUB            8908.0  MĘŻCZYZNA   206849.0   \n",
       "19 2019-12-31  3.872542         JAKUB            7966.0  MĘŻCZYZNA   199134.0   \n",
       "20 2020-12-31  3.282564         JAKUB            7162.0  MĘŻCZYZNA   186590.0   \n",
       "21 2021-12-31  3.181316         JAKUB            6427.0  MĘŻCZYZNA   175132.0   \n",
       "22 2022-12-31  2.986046         JAKUB            5535.0  MĘŻCZYZNA   163864.0   \n",
       "23 2023-12-31  2.696639         JAKUB            4474.0  MĘŻCZYZNA   145349.0   \n",
       "24 2024-12-31  2.106661         JAKUB               NaN        NaN        NaN   \n",
       "\n",
       "           y  \n",
       "0   7.349072  \n",
       "1   9.696427  \n",
       "2   9.717660  \n",
       "3   8.967061  \n",
       "4   8.791191  \n",
       "5   8.195208  \n",
       "6   7.846770  \n",
       "7   7.604767  \n",
       "8   6.966773  \n",
       "9   6.382509  \n",
       "10  6.002905  \n",
       "11  5.855583  \n",
       "12  5.549923  \n",
       "13  5.238201  \n",
       "14  4.840549  \n",
       "15  4.370972  \n",
       "16  4.336138  \n",
       "17  4.222377  \n",
       "18  4.306523  \n",
       "19  4.000321  \n",
       "20  3.838362  \n",
       "21  3.669803  \n",
       "22  3.377801  \n",
       "23  3.078109  \n",
       "24       NaN  "
      ]
     },
     "execution_count": 158,
     "metadata": {},
     "output_type": "execute_result"
    }
   ],
   "source": [
    "p[p.IMIĘ_PIERWSZE==\"JAKUB\"]"
   ]
  },
  {
   "cell_type": "code",
   "execution_count": 159,
   "metadata": {},
   "outputs": [
    {
     "data": {
      "text/html": [
       "<div>\n",
       "<style scoped>\n",
       "    .dataframe tbody tr th:only-of-type {\n",
       "        vertical-align: middle;\n",
       "    }\n",
       "\n",
       "    .dataframe tbody tr th {\n",
       "        vertical-align: top;\n",
       "    }\n",
       "\n",
       "    .dataframe thead th {\n",
       "        text-align: right;\n",
       "    }\n",
       "</style>\n",
       "<table border=\"1\" class=\"dataframe\">\n",
       "  <thead>\n",
       "    <tr style=\"text-align: right;\">\n",
       "      <th></th>\n",
       "      <th>ds</th>\n",
       "      <th>IMIĘ_PIERWSZE</th>\n",
       "      <th>LICZBA_WYSTĄPIEŃ</th>\n",
       "      <th>PŁEĆ</th>\n",
       "      <th>LW_ROCZNA</th>\n",
       "      <th>y</th>\n",
       "    </tr>\n",
       "  </thead>\n",
       "  <tbody>\n",
       "    <tr>\n",
       "      <th>0</th>\n",
       "      <td>2000-12-31</td>\n",
       "      <td>JAKUB</td>\n",
       "      <td>14497</td>\n",
       "      <td>MĘŻCZYZNA</td>\n",
       "      <td>197263</td>\n",
       "      <td>7.349072</td>\n",
       "    </tr>\n",
       "    <tr>\n",
       "      <th>382</th>\n",
       "      <td>2001-12-31</td>\n",
       "      <td>JAKUB</td>\n",
       "      <td>18612</td>\n",
       "      <td>MĘŻCZYZNA</td>\n",
       "      <td>191947</td>\n",
       "      <td>9.696427</td>\n",
       "    </tr>\n",
       "    <tr>\n",
       "      <th>785</th>\n",
       "      <td>2002-12-31</td>\n",
       "      <td>JAKUB</td>\n",
       "      <td>18018</td>\n",
       "      <td>MĘŻCZYZNA</td>\n",
       "      <td>185415</td>\n",
       "      <td>9.717660</td>\n",
       "    </tr>\n",
       "    <tr>\n",
       "      <th>1186</th>\n",
       "      <td>2003-12-31</td>\n",
       "      <td>JAKUB</td>\n",
       "      <td>16429</td>\n",
       "      <td>MĘŻCZYZNA</td>\n",
       "      <td>183215</td>\n",
       "      <td>8.967061</td>\n",
       "    </tr>\n",
       "    <tr>\n",
       "      <th>1589</th>\n",
       "      <td>2004-12-31</td>\n",
       "      <td>JAKUB</td>\n",
       "      <td>16431</td>\n",
       "      <td>MĘŻCZYZNA</td>\n",
       "      <td>186903</td>\n",
       "      <td>8.791191</td>\n",
       "    </tr>\n",
       "    <tr>\n",
       "      <th>2006</th>\n",
       "      <td>2005-12-31</td>\n",
       "      <td>JAKUB</td>\n",
       "      <td>15802</td>\n",
       "      <td>MĘŻCZYZNA</td>\n",
       "      <td>192820</td>\n",
       "      <td>8.195208</td>\n",
       "    </tr>\n",
       "    <tr>\n",
       "      <th>2430</th>\n",
       "      <td>2006-12-31</td>\n",
       "      <td>JAKUB</td>\n",
       "      <td>15756</td>\n",
       "      <td>MĘŻCZYZNA</td>\n",
       "      <td>200796</td>\n",
       "      <td>7.846770</td>\n",
       "    </tr>\n",
       "    <tr>\n",
       "      <th>2875</th>\n",
       "      <td>2007-12-31</td>\n",
       "      <td>JAKUB</td>\n",
       "      <td>16118</td>\n",
       "      <td>MĘŻCZYZNA</td>\n",
       "      <td>211946</td>\n",
       "      <td>7.604767</td>\n",
       "    </tr>\n",
       "    <tr>\n",
       "      <th>3335</th>\n",
       "      <td>2008-12-31</td>\n",
       "      <td>JAKUB</td>\n",
       "      <td>15843</td>\n",
       "      <td>MĘŻCZYZNA</td>\n",
       "      <td>227408</td>\n",
       "      <td>6.966773</td>\n",
       "    </tr>\n",
       "    <tr>\n",
       "      <th>3819</th>\n",
       "      <td>2009-12-31</td>\n",
       "      <td>JAKUB</td>\n",
       "      <td>14736</td>\n",
       "      <td>MĘŻCZYZNA</td>\n",
       "      <td>230881</td>\n",
       "      <td>6.382509</td>\n",
       "    </tr>\n",
       "    <tr>\n",
       "      <th>4303</th>\n",
       "      <td>2010-12-31</td>\n",
       "      <td>JAKUB</td>\n",
       "      <td>13764</td>\n",
       "      <td>MĘŻCZYZNA</td>\n",
       "      <td>229289</td>\n",
       "      <td>6.002905</td>\n",
       "    </tr>\n",
       "    <tr>\n",
       "      <th>4790</th>\n",
       "      <td>2011-12-31</td>\n",
       "      <td>JAKUB</td>\n",
       "      <td>12661</td>\n",
       "      <td>MĘŻCZYZNA</td>\n",
       "      <td>216221</td>\n",
       "      <td>5.855583</td>\n",
       "    </tr>\n",
       "    <tr>\n",
       "      <th>5258</th>\n",
       "      <td>2012-12-31</td>\n",
       "      <td>JAKUB</td>\n",
       "      <td>11989</td>\n",
       "      <td>MĘŻCZYZNA</td>\n",
       "      <td>216021</td>\n",
       "      <td>5.549923</td>\n",
       "    </tr>\n",
       "    <tr>\n",
       "      <th>5743</th>\n",
       "      <td>2013-12-31</td>\n",
       "      <td>JAKUB</td>\n",
       "      <td>10870</td>\n",
       "      <td>MĘŻCZYZNA</td>\n",
       "      <td>207514</td>\n",
       "      <td>5.238201</td>\n",
       "    </tr>\n",
       "    <tr>\n",
       "      <th>6738</th>\n",
       "      <td>2014-12-31</td>\n",
       "      <td>JAKUB</td>\n",
       "      <td>10229</td>\n",
       "      <td>MĘŻCZYZNA</td>\n",
       "      <td>211319</td>\n",
       "      <td>4.840549</td>\n",
       "    </tr>\n",
       "    <tr>\n",
       "      <th>7744</th>\n",
       "      <td>2015-12-31</td>\n",
       "      <td>JAKUB</td>\n",
       "      <td>9204</td>\n",
       "      <td>MĘŻCZYZNA</td>\n",
       "      <td>210571</td>\n",
       "      <td>4.370972</td>\n",
       "    </tr>\n",
       "    <tr>\n",
       "      <th>8758</th>\n",
       "      <td>2016-12-31</td>\n",
       "      <td>JAKUB</td>\n",
       "      <td>9307</td>\n",
       "      <td>MĘŻCZYZNA</td>\n",
       "      <td>214638</td>\n",
       "      <td>4.336138</td>\n",
       "    </tr>\n",
       "    <tr>\n",
       "      <th>9696</th>\n",
       "      <td>2017-12-31</td>\n",
       "      <td>JAKUB</td>\n",
       "      <td>9316</td>\n",
       "      <td>MĘŻCZYZNA</td>\n",
       "      <td>220634</td>\n",
       "      <td>4.222377</td>\n",
       "    </tr>\n",
       "    <tr>\n",
       "      <th>10508</th>\n",
       "      <td>2018-12-31</td>\n",
       "      <td>JAKUB</td>\n",
       "      <td>8908</td>\n",
       "      <td>MĘŻCZYZNA</td>\n",
       "      <td>206849</td>\n",
       "      <td>4.306523</td>\n",
       "    </tr>\n",
       "    <tr>\n",
       "      <th>11299</th>\n",
       "      <td>2019-12-31</td>\n",
       "      <td>JAKUB</td>\n",
       "      <td>7966</td>\n",
       "      <td>MĘŻCZYZNA</td>\n",
       "      <td>199134</td>\n",
       "      <td>4.000321</td>\n",
       "    </tr>\n",
       "    <tr>\n",
       "      <th>12112</th>\n",
       "      <td>2020-12-31</td>\n",
       "      <td>JAKUB</td>\n",
       "      <td>7162</td>\n",
       "      <td>MĘŻCZYZNA</td>\n",
       "      <td>186590</td>\n",
       "      <td>3.838362</td>\n",
       "    </tr>\n",
       "    <tr>\n",
       "      <th>12912</th>\n",
       "      <td>2021-12-31</td>\n",
       "      <td>JAKUB</td>\n",
       "      <td>6427</td>\n",
       "      <td>MĘŻCZYZNA</td>\n",
       "      <td>175132</td>\n",
       "      <td>3.669803</td>\n",
       "    </tr>\n",
       "    <tr>\n",
       "      <th>13773</th>\n",
       "      <td>2022-12-31</td>\n",
       "      <td>JAKUB</td>\n",
       "      <td>5535</td>\n",
       "      <td>MĘŻCZYZNA</td>\n",
       "      <td>163864</td>\n",
       "      <td>3.377801</td>\n",
       "    </tr>\n",
       "    <tr>\n",
       "      <th>14807</th>\n",
       "      <td>2023-12-31</td>\n",
       "      <td>JAKUB</td>\n",
       "      <td>4474</td>\n",
       "      <td>MĘŻCZYZNA</td>\n",
       "      <td>145349</td>\n",
       "      <td>3.078109</td>\n",
       "    </tr>\n",
       "  </tbody>\n",
       "</table>\n",
       "</div>"
      ],
      "text/plain": [
       "              ds IMIĘ_PIERWSZE  LICZBA_WYSTĄPIEŃ       PŁEĆ  LW_ROCZNA  \\\n",
       "0     2000-12-31         JAKUB             14497  MĘŻCZYZNA     197263   \n",
       "382   2001-12-31         JAKUB             18612  MĘŻCZYZNA     191947   \n",
       "785   2002-12-31         JAKUB             18018  MĘŻCZYZNA     185415   \n",
       "1186  2003-12-31         JAKUB             16429  MĘŻCZYZNA     183215   \n",
       "1589  2004-12-31         JAKUB             16431  MĘŻCZYZNA     186903   \n",
       "2006  2005-12-31         JAKUB             15802  MĘŻCZYZNA     192820   \n",
       "2430  2006-12-31         JAKUB             15756  MĘŻCZYZNA     200796   \n",
       "2875  2007-12-31         JAKUB             16118  MĘŻCZYZNA     211946   \n",
       "3335  2008-12-31         JAKUB             15843  MĘŻCZYZNA     227408   \n",
       "3819  2009-12-31         JAKUB             14736  MĘŻCZYZNA     230881   \n",
       "4303  2010-12-31         JAKUB             13764  MĘŻCZYZNA     229289   \n",
       "4790  2011-12-31         JAKUB             12661  MĘŻCZYZNA     216221   \n",
       "5258  2012-12-31         JAKUB             11989  MĘŻCZYZNA     216021   \n",
       "5743  2013-12-31         JAKUB             10870  MĘŻCZYZNA     207514   \n",
       "6738  2014-12-31         JAKUB             10229  MĘŻCZYZNA     211319   \n",
       "7744  2015-12-31         JAKUB              9204  MĘŻCZYZNA     210571   \n",
       "8758  2016-12-31         JAKUB              9307  MĘŻCZYZNA     214638   \n",
       "9696  2017-12-31         JAKUB              9316  MĘŻCZYZNA     220634   \n",
       "10508 2018-12-31         JAKUB              8908  MĘŻCZYZNA     206849   \n",
       "11299 2019-12-31         JAKUB              7966  MĘŻCZYZNA     199134   \n",
       "12112 2020-12-31         JAKUB              7162  MĘŻCZYZNA     186590   \n",
       "12912 2021-12-31         JAKUB              6427  MĘŻCZYZNA     175132   \n",
       "13773 2022-12-31         JAKUB              5535  MĘŻCZYZNA     163864   \n",
       "14807 2023-12-31         JAKUB              4474  MĘŻCZYZNA     145349   \n",
       "\n",
       "              y  \n",
       "0      7.349072  \n",
       "382    9.696427  \n",
       "785    9.717660  \n",
       "1186   8.967061  \n",
       "1589   8.791191  \n",
       "2006   8.195208  \n",
       "2430   7.846770  \n",
       "2875   7.604767  \n",
       "3335   6.966773  \n",
       "3819   6.382509  \n",
       "4303   6.002905  \n",
       "4790   5.855583  \n",
       "5258   5.549923  \n",
       "5743   5.238201  \n",
       "6738   4.840549  \n",
       "7744   4.370972  \n",
       "8758   4.336138  \n",
       "9696   4.222377  \n",
       "10508  4.306523  \n",
       "11299  4.000321  \n",
       "12112  3.838362  \n",
       "12912  3.669803  \n",
       "13773  3.377801  \n",
       "14807  3.078109  "
      ]
     },
     "execution_count": 159,
     "metadata": {},
     "output_type": "execute_result"
    }
   ],
   "source": [
    "df[df.IMIĘ_PIERWSZE==\"JAKUB\"]"
   ]
  },
  {
   "cell_type": "code",
   "execution_count": 160,
   "metadata": {},
   "outputs": [
    {
     "data": {
      "image/png": "[encoded data removed]",
      "text/plain": [
       "<Figure size 1280x720 with 10 Axes>"
      ]
     },
     "metadata": {},
     "output_type": "display_data"
    }
   ],
   "source": [
    "fig, ax = plt.subplots(5,2, figsize=(1280/96, 720/96), dpi=96)\n",
    "ax = ax.flatten()\n",
    "for ax_ ,name in enumerate(p['IMIĘ_PIERWSZE'].unique()[:10]):\n",
    "    p_ = p.loc[p['IMIĘ_PIERWSZE'] == name]\n",
    "    p_.plot(x='ds', y='y', ax=ax[ax_], label='PROCENT_WYSTAPIEN')\n",
    "    p_.plot(x='ds', y='yhat', ax=ax[ax_], label='PRZEWIDYWANIE')\n",
    "    ax[ax_].set_title(name)\n",
    "    ax[ax_].legend()\n",
    "    ax[ax_].set_xlabel('Rok')\n",
    "    ax[ax_].set_ylabel('WYSTĄPIENIA')\n",
    "fig.tight_layout()\n",
    "plt.show()"
   ]
  },
  {
   "cell_type": "code",
   "execution_count": 166,
   "metadata": {},
   "outputs": [
    {
     "data": {
      "text/html": [
       "<div>\n",
       "<style scoped>\n",
       "    .dataframe tbody tr th:only-of-type {\n",
       "        vertical-align: middle;\n",
       "    }\n",
       "\n",
       "    .dataframe tbody tr th {\n",
       "        vertical-align: top;\n",
       "    }\n",
       "\n",
       "    .dataframe thead th {\n",
       "        text-align: right;\n",
       "    }\n",
       "</style>\n",
       "<table border=\"1\" class=\"dataframe\">\n",
       "  <thead>\n",
       "    <tr style=\"text-align: right;\">\n",
       "      <th></th>\n",
       "      <th>ds</th>\n",
       "      <th>yhat</th>\n",
       "      <th>IMIĘ_PIERWSZE</th>\n",
       "      <th>LICZBA_WYSTĄPIEŃ</th>\n",
       "      <th>PŁEĆ</th>\n",
       "      <th>LW_ROCZNA</th>\n",
       "      <th>y</th>\n",
       "    </tr>\n",
       "  </thead>\n",
       "  <tbody>\n",
       "    <tr>\n",
       "      <th>1574</th>\n",
       "      <td>2024-12-31</td>\n",
       "      <td>5.839940</td>\n",
       "      <td>ANTONI</td>\n",
       "      <td>NaN</td>\n",
       "      <td>NaN</td>\n",
       "      <td>NaN</td>\n",
       "      <td>NaN</td>\n",
       "    </tr>\n",
       "    <tr>\n",
       "      <th>799</th>\n",
       "      <td>2024-12-31</td>\n",
       "      <td>4.910902</td>\n",
       "      <td>JAN</td>\n",
       "      <td>NaN</td>\n",
       "      <td>NaN</td>\n",
       "      <td>NaN</td>\n",
       "      <td>NaN</td>\n",
       "    </tr>\n",
       "    <tr>\n",
       "      <th>949</th>\n",
       "      <td>2024-12-31</td>\n",
       "      <td>4.697275</td>\n",
       "      <td>ALEKSANDER</td>\n",
       "      <td>NaN</td>\n",
       "      <td>NaN</td>\n",
       "      <td>NaN</td>\n",
       "      <td>NaN</td>\n",
       "    </tr>\n",
       "    <tr>\n",
       "      <th>1824</th>\n",
       "      <td>2024-12-31</td>\n",
       "      <td>4.622015</td>\n",
       "      <td>FRANCISZEK</td>\n",
       "      <td>NaN</td>\n",
       "      <td>NaN</td>\n",
       "      <td>NaN</td>\n",
       "      <td>NaN</td>\n",
       "    </tr>\n",
       "    <tr>\n",
       "      <th>549</th>\n",
       "      <td>2024-12-31</td>\n",
       "      <td>3.903854</td>\n",
       "      <td>FILIP</td>\n",
       "      <td>NaN</td>\n",
       "      <td>NaN</td>\n",
       "      <td>NaN</td>\n",
       "      <td>NaN</td>\n",
       "    </tr>\n",
       "    <tr>\n",
       "      <th>224</th>\n",
       "      <td>2024-12-31</td>\n",
       "      <td>3.735414</td>\n",
       "      <td>SZYMON</td>\n",
       "      <td>NaN</td>\n",
       "      <td>NaN</td>\n",
       "      <td>NaN</td>\n",
       "      <td>NaN</td>\n",
       "    </tr>\n",
       "    <tr>\n",
       "      <th>649</th>\n",
       "      <td>2024-12-31</td>\n",
       "      <td>3.203086</td>\n",
       "      <td>MIKOŁAJ</td>\n",
       "      <td>NaN</td>\n",
       "      <td>NaN</td>\n",
       "      <td>NaN</td>\n",
       "      <td>NaN</td>\n",
       "    </tr>\n",
       "    <tr>\n",
       "      <th>749</th>\n",
       "      <td>2024-12-31</td>\n",
       "      <td>3.172577</td>\n",
       "      <td>WOJCIECH</td>\n",
       "      <td>NaN</td>\n",
       "      <td>NaN</td>\n",
       "      <td>NaN</td>\n",
       "      <td>NaN</td>\n",
       "    </tr>\n",
       "    <tr>\n",
       "      <th>1449</th>\n",
       "      <td>2024-12-31</td>\n",
       "      <td>2.819503</td>\n",
       "      <td>STANISŁAW</td>\n",
       "      <td>NaN</td>\n",
       "      <td>NaN</td>\n",
       "      <td>NaN</td>\n",
       "      <td>NaN</td>\n",
       "    </tr>\n",
       "    <tr>\n",
       "      <th>2899</th>\n",
       "      <td>2024-12-31</td>\n",
       "      <td>2.750479</td>\n",
       "      <td>LEON</td>\n",
       "      <td>NaN</td>\n",
       "      <td>NaN</td>\n",
       "      <td>NaN</td>\n",
       "      <td>NaN</td>\n",
       "    </tr>\n",
       "    <tr>\n",
       "      <th>1099</th>\n",
       "      <td>2024-12-31</td>\n",
       "      <td>2.747425</td>\n",
       "      <td>MARCEL</td>\n",
       "      <td>NaN</td>\n",
       "      <td>NaN</td>\n",
       "      <td>NaN</td>\n",
       "      <td>NaN</td>\n",
       "    </tr>\n",
       "    <tr>\n",
       "      <th>574</th>\n",
       "      <td>2024-12-31</td>\n",
       "      <td>2.730452</td>\n",
       "      <td>ADAM</td>\n",
       "      <td>NaN</td>\n",
       "      <td>NaN</td>\n",
       "      <td>NaN</td>\n",
       "      <td>NaN</td>\n",
       "    </tr>\n",
       "    <tr>\n",
       "      <th>1499</th>\n",
       "      <td>2024-12-31</td>\n",
       "      <td>2.424074</td>\n",
       "      <td>NIKODEM</td>\n",
       "      <td>NaN</td>\n",
       "      <td>NaN</td>\n",
       "      <td>NaN</td>\n",
       "      <td>NaN</td>\n",
       "    </tr>\n",
       "    <tr>\n",
       "      <th>2874</th>\n",
       "      <td>2024-12-31</td>\n",
       "      <td>2.206398</td>\n",
       "      <td>TYMON</td>\n",
       "      <td>NaN</td>\n",
       "      <td>NaN</td>\n",
       "      <td>NaN</td>\n",
       "      <td>NaN</td>\n",
       "    </tr>\n",
       "    <tr>\n",
       "      <th>2499</th>\n",
       "      <td>2024-12-31</td>\n",
       "      <td>2.131666</td>\n",
       "      <td>IGNACY</td>\n",
       "      <td>NaN</td>\n",
       "      <td>NaN</td>\n",
       "      <td>NaN</td>\n",
       "      <td>NaN</td>\n",
       "    </tr>\n",
       "    <tr>\n",
       "      <th>1324</th>\n",
       "      <td>2024-12-31</td>\n",
       "      <td>2.109122</td>\n",
       "      <td>IGOR</td>\n",
       "      <td>NaN</td>\n",
       "      <td>NaN</td>\n",
       "      <td>NaN</td>\n",
       "      <td>NaN</td>\n",
       "    </tr>\n",
       "    <tr>\n",
       "      <th>24</th>\n",
       "      <td>2024-12-31</td>\n",
       "      <td>2.106661</td>\n",
       "      <td>JAKUB</td>\n",
       "      <td>NaN</td>\n",
       "      <td>NaN</td>\n",
       "      <td>NaN</td>\n",
       "      <td>NaN</td>\n",
       "    </tr>\n",
       "    <tr>\n",
       "      <th>899</th>\n",
       "      <td>2024-12-31</td>\n",
       "      <td>2.006178</td>\n",
       "      <td>WIKTOR</td>\n",
       "      <td>NaN</td>\n",
       "      <td>NaN</td>\n",
       "      <td>NaN</td>\n",
       "      <td>NaN</td>\n",
       "    </tr>\n",
       "    <tr>\n",
       "      <th>2174</th>\n",
       "      <td>2024-12-31</td>\n",
       "      <td>1.967838</td>\n",
       "      <td>OLIWIER</td>\n",
       "      <td>NaN</td>\n",
       "      <td>NaN</td>\n",
       "      <td>NaN</td>\n",
       "      <td>NaN</td>\n",
       "    </tr>\n",
       "    <tr>\n",
       "      <th>1724</th>\n",
       "      <td>2024-12-31</td>\n",
       "      <td>1.781805</td>\n",
       "      <td>TYMOTEUSZ</td>\n",
       "      <td>NaN</td>\n",
       "      <td>NaN</td>\n",
       "      <td>NaN</td>\n",
       "      <td>NaN</td>\n",
       "    </tr>\n",
       "  </tbody>\n",
       "</table>\n",
       "</div>"
      ],
      "text/plain": [
       "             ds      yhat IMIĘ_PIERWSZE  LICZBA_WYSTĄPIEŃ PŁEĆ  LW_ROCZNA   y\n",
       "1574 2024-12-31  5.839940        ANTONI               NaN  NaN        NaN NaN\n",
       "799  2024-12-31  4.910902           JAN               NaN  NaN        NaN NaN\n",
       "949  2024-12-31  4.697275    ALEKSANDER               NaN  NaN        NaN NaN\n",
       "1824 2024-12-31  4.622015    FRANCISZEK               NaN  NaN        NaN NaN\n",
       "549  2024-12-31  3.903854         FILIP               NaN  NaN        NaN NaN\n",
       "224  2024-12-31  3.735414        SZYMON               NaN  NaN        NaN NaN\n",
       "649  2024-12-31  3.203086       MIKOŁAJ               NaN  NaN        NaN NaN\n",
       "749  2024-12-31  3.172577      WOJCIECH               NaN  NaN        NaN NaN\n",
       "1449 2024-12-31  2.819503     STANISŁAW               NaN  NaN        NaN NaN\n",
       "2899 2024-12-31  2.750479          LEON               NaN  NaN        NaN NaN\n",
       "1099 2024-12-31  2.747425        MARCEL               NaN  NaN        NaN NaN\n",
       "574  2024-12-31  2.730452          ADAM               NaN  NaN        NaN NaN\n",
       "1499 2024-12-31  2.424074       NIKODEM               NaN  NaN        NaN NaN\n",
       "2874 2024-12-31  2.206398         TYMON               NaN  NaN        NaN NaN\n",
       "2499 2024-12-31  2.131666        IGNACY               NaN  NaN        NaN NaN\n",
       "1324 2024-12-31  2.109122          IGOR               NaN  NaN        NaN NaN\n",
       "24   2024-12-31  2.106661         JAKUB               NaN  NaN        NaN NaN\n",
       "899  2024-12-31  2.006178        WIKTOR               NaN  NaN        NaN NaN\n",
       "2174 2024-12-31  1.967838       OLIWIER               NaN  NaN        NaN NaN\n",
       "1724 2024-12-31  1.781805     TYMOTEUSZ               NaN  NaN        NaN NaN"
      ]
     },
     "execution_count": 166,
     "metadata": {},
     "output_type": "execute_result"
    }
   ],
   "source": [
    "p[p.ds==\"2024-12-31\"].sort_values(by=\"yhat\", ascending=False).head(20)"
   ]
  },
  {
   "cell_type": "code",
   "execution_count": null,
   "metadata": {},
   "outputs": [],
   "source": []
  }
 ],
 "metadata": {
  "kernelspec": {
   "display_name": "base",
   "language": "python",
   "name": "python3"
  },
  "language_info": {
   "codemirror_mode": {
    "name": "ipython",
    "version": 3
   },
   "file_extension": ".py",
   "mimetype": "text/x-python",
   "name": "python",
   "nbconvert_exporter": "python",
   "pygments_lexer": "ipython3",
   "version": "3.11.3"
  }
 },
 "nbformat": 4,
 "nbformat_minor": 2
}
